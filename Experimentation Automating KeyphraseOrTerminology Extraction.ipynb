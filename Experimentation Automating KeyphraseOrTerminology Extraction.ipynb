{
 "cells": [
  {
   "cell_type": "markdown",
   "metadata": {},
   "source": [
    "Documnted Created By: Anshoo Mehra\n",
    "\n",
    "Special Thanks to many reference sites, blogs refrerred towards this experimentation using Textacy.\n",
    "<br>\n",
    "Burton DWilde: http://bdewilde.github.io/blog/2014/09/23/intro-to-automatic-keyphrase-extraction/\n",
    "<br>\n",
    "Wikipedia: https://en.wikipedia.org/wiki/Main_Page\n",
    "<br>\n",
    "Wordnet:http://wordnet.princeton.edu/\n",
    "\n",
    "[Intent is to NOT create redundant information source, rather simplify articulation, methodology and approach considering beginners (with no prior experience). Hopefully more examples and Glossary of basic terms may help towards is this objective & act as extended help doc in addition to one created on Texacy.\n",
    "\n",
    "It is in progress document and thus far trying to learn from great work done by Burton DWilde + community.\n",
    "\n",
    "Hope is to eventually add in addition to already existing ..\n",
    "\n",
    "Also, not all markdown tag's are supported by github, specifically color, this document may esthetically appear better in jupyter ]  "
   ]
  },
  {
   "cell_type": "markdown",
   "metadata": {},
   "source": [
    "## <font color=blue> Understanding  Basics ... </font>\n",
    "\n",
    "<br>\n",
    "\n",
    "<font color=blue>\n",
    "**I. WHAT is Terimology/Keyphrase Extraction?**\n",
    "</font>\n",
    "\n",
    "Terimology/Keyphrase extraction (also known as term extraction, glossary extraction, term recognition, or terminology mining) is a subtask of information extraction. The goal of terminology extraction is to automatically extract relevant terms from a given corpus.\n",
    "\n",
    "<br>\n",
    "\n",
    "<font color=blue>\n",
    "**II. WHY do we care about Terimology/Keyphrase Extraction?**\n",
    "</font>\n",
    "\n",
    "Terimology/Keyphrase provide a concise description of a document’s content; they are useful for document categorization, clustering, indexing, search, and summarization; quantifying semantic similarity with other documents; as well as conceptualizing particular knowledge domains.\n",
    "\n",
    "<br>\n",
    "\n",
    "<font color=blue>\n",
    "**III. CHALLENGES with Terimology/Keyphrase Extraction?**\n",
    "</font>\n",
    "\n",
    "Despite wide applicability and much research, keyphrase extraction suffers from poor performance relative to many other core NLP tasks, partly because there’s no objectively “correct” set of keyphrases for a given document. While human-labeled keyphrases are generally considered to be the gold standard, humans disagree about what that standard is! As a general rule of thumb, keyphrases should be relevant to one or more of a document’s major topics, and the set of keyphrases describing a document should provide good coverage of all major topics. (They should also be understandable and grammatical, of course.) The fundamental difficulty lies in determining which keyphrases are the most relevant and provide the best coverage.\n",
    "\n",
    "<br>\n",
    "\n",
    "<font color=blue>\n",
    "**IV. Pipeline (Simplified) for Terimology/Keyphrase Extraction**\n",
    "</font>\n",
    "\n",
    "Terimology/Keyphrase extraction is typically a two-step process: \n",
    "1.  _Candidate Lexical Unit Selection_ - A set of words and phrases that could convey the topical content of a document are identified\n",
    "2. _Ranking & Keyphrase Selection/Formation_ - Identified candidates are scored/ranked and the “best” are selected/formed as a document’s keyphrases. [ This step can be multiple steps, depending on approach ]\n",
    "\n",
    "<br>\n",
    "\n",
    "<font color=blue>\n",
    "**Glossary**\n",
    "</font>\n",
    "\n",
    "**Linguistics Terminologies Refresher:\n",
    "\n",
    "** _Lexical_ ** - The adjective lexical refers to things concerning the words or lexicon of a language. Linguistics, the study of language, often uses lexical concepts.\n",
    "\n",
    "Lexical or content word, words referring to things, as opposed to having only grammatical meaning, the opposite of function word\n",
    "\n",
    "**_Linguistics_** - is the scientific study of language, and involves an analysis of language form, language meaning, and language in context. \n",
    "\n",
    "** _Phonetics_** - (pronounced /fəˈnɛtɪks/, from the Greek: φωνή, phōnē, 'sound, voice') is a branch of linguistics that comprises the study of the sounds of human speech, or—in the case of sign languages—the equivalent aspects of sign\n",
    "\n",
    "** _Thesaurus_ ** - In general usage, a thesaurus is a reference work that lists words grouped together according to similarity of meaning (containing synonyms and sometimes antonyms), in contrast to a dictionary, which provides definitions for words, and generally lists them in alphabetical order. The main purpose of such reference works for users \"to find the word, or words, by which [an] idea may be most fitly and aptly expressed\"\n",
    "\n",
    "**_POS_** - In traditional grammar, a part of speech (abbreviated form: PoS or POS) is a category of words (or, more generally, of lexical items) which have similar grammatical properties. Words that are assigned to the same part of speech generally display similar behavior in terms of syntax—they play similar roles within the grammatical structure of sentences—and sometimes in terms of morphology, in that they undergo inflection for similar properties. Commonly listed English parts of speech are noun, verb, adjective, adverb, pronoun, preposition, conjunction, interjection, and sometimes numeral, article or determiner.\n",
    "\n",
    "** _Syllable_ ** - A syllable is a unit of organization for a sequence of speech sounds. For example, the word water is composed of two syllables: wa and ter. A syllable is typically made up of a syllable nucleus (most often a vowel) with optional initial and final margins (typically, consonants)\n",
    "\n",
    "** _Vowel_ **  In phonetics, a vowel is a sound in spoken language, with two complementary definitions. In the phonetic definition, a vowel is a sound pronounced with an open vocal tract, so that the tongue does not touch the lips, teeth, or roof of the mouth, such as the English \"ah\" /ɑː/ or \"oh\" /oʊ/. There is no build-up of air pressure at any point above the glottis.\n",
    "\n",
    "** _Consonants_ ** - In articulatory phonetics, a consonant is a speech sound that is articulated with complete or partial closure of the vocal tract. Examples are [p], pronounced with the lips; [t], pronounced with the front of the tongue; [k], pronounced with the back of the tongue; [h], pronounced in the throat; [f] and [s], pronounced by forcing air through a narrow channel (fricatives); and [m] and [n], which have air flowing through the nose (nasals)\n",
    "\n",
    "** _Noun_ ** - A noun (from Latin nōmen, literally meaning \"name\")[1] is a word that functions as the name of some specific thing or set of things, such as living creatures, objects, places, actions, qualities, states of existence, or ideas.[2][note 1] Linguistically, a noun is a member of a large, open part of speech whose members can occur as the main word in the subject of a clause, the object of a verb, or the object of a preposition.\n",
    "\n",
    "** _Adjective_ ** - In linguistics, an adjective (abbreviated adj) is a describing word, the main syntactic role of which is to qualify a noun or noun phrase, giving more information about the object signified.[1]\n",
    "\n",
    "Adjectives are one of the English parts of speech, although historically they were classed together with the nouns.[2] Certain words that were traditionally considered to be adjectives, including the, this, my, etc., are today usually classed separately, as determiners.\n",
    "\n",
    "** _Verb_ ** - A verb, from the Latin verbum meaning word, is a word (part of speech) that in syntax conveys an action (bring, read, walk, run, learn), an occurrence (happen, become), or a state of being (be, exist, stand). In the usual description of English, the basic form, with or without the particle to, is the infinitive. In many languages, verbs are inflected (modified in form) to encode tense, aspect, mood, and voice. A verb may also agree with the person, gender or number of some of its arguments, such as its subject, or object. Verbs have tenses: present, to indicate that an action is being carried out; past, to indicate that an action has been done; future, to indicate that an action will be done.\n",
    "\n",
    "** _Adverb_ ** - An adverb is a word that modifies a verb, adjective, another adverb, determiner, noun phrase, clause, or sentence. Adverbs typically express manner, place, time, frequency, degree, level of certainty, etc., answering questions such as how?, in what way?, when?, where?, and to what extent?. This function is called the adverbial function, and may be realised by single words (adverbs) or by multi-word expressions (adverbial phrases and adverbial clauses).\n",
    "\n",
    "Adverbs are traditionally regarded as one of the parts of speech. However, modern linguists note that the term \"adverb\" has come to be used as a kind of \"catch-all\" category, used to classify words with various different types of syntactic behavior, not necessarily having much in common except that they do not fit into any of the other available categories (noun, adjective, preposition, etc.)\n",
    "\n",
    "\n",
    "**_Stop Words_** - In computing, stop words are words which are filtered out before or after processing of natural language data (text).[1] Though stop words usually refer to the most common words in a language, there is no single universal list of stop words used by all natural language processing tools, and indeed not all tools even use such a list. Some tools specifically avoid removing these stop words to support phrase search.\n",
    "\n",
    "Any group of words can be chosen as the stop words for a given purpose. For some search engines, these are some of the most common, short function words, such as the, is, at, which, and on. In this case, stop words can cause problems when searching for phrases that include them, particularly in names such as \"The Who\", \"The The\", or \"Take That\". Other search engines remove some of the most common words—including lexical words, such as \"want\"—from a query in order to improve performance.[2]\n",
    "\n",
    "** _Corpus_ ** - In linguistics, a corpus (plural corpora) or text corpus is a large and structured set of texts (nowadays usually electronically stored and processed). They are used to do statistical analysis and hypothesis testing, checking occurrences or validating linguistic rules within a specific language territory.\n",
    "\n",
    "**_N-grams_** - In the fields of computational linguistics and probability, an n-gram is a contiguous sequence of n items from a given sequence of text or speech. The items can be phonemes, syllables, letters, words or base pairs according to the application. The n-grams typically are collected from a text or speech corpus. When the items are words, n-grams may also be called shingles.[1]\n",
    "\n",
    "An n-gram of size 1 is referred to as a \"unigram\"; size 2 is a \"bigram\" (or, less commonly, a \"digram\"); size 3 is a \"trigram\". Larger sizes are sometimes referred to by the value of n in modern language, e.g., \"four-gram\", \"five-gram\", and so on.\n",
    "\n",
    "\n",
    "**_Stemming & Lemmatization_** - Stemming usually refers to a crude heuristic process that chops off the ends of words in the hope of achieving this goal correctly most of the time, and often includes the removal of derivational affixes. Lemmatization usually refers to doing things properly with the use of a vocabulary and morphological analysis of words, normally aiming to remove inflectional endings only and to return the base or dictionary form of a word, which is known as the lemma . If confronted with the token saw, stemming might return just s, whereas lemmatization would attempt to return either see or saw depending on whether the use of the token was as a verb or a noun. The two may also differ in that stemming most commonly collapses derivationally related words, whereas lemmatization commonly only collapses the different inflectional forms of a lemma. Linguistic processing for stemming or lemmatization is often done by an additional plug-in component to the indexing process, and a number of such components exist, both commercial and open-source.\n",
    "\n",
    "For grammatical reasons, documents are going to use different forms of a word, such as organize, organizes, and organizing. Additionally, there are families of derivationally related words with similar meanings, such as democracy, democratic, and democratization. In many situations, it seems as if it would be useful for a search for one of these words to return documents that contain another word in the set.\n",
    "\n",
    "The goal of both stemming and lemmatization is to reduce inflectional forms and sometimes derivationally related forms of a word to a common base form. For instance:\n",
    "\n",
    "am, are, is $\\Rightarrow$ be \n",
    "car, cars, car's, cars' $\\Rightarrow$ car\n",
    "\n",
    "The result of this mapping of text will be something like:\n",
    "\n",
    "the boy's cars are different colors $\\Rightarrow$ \n",
    "the boy car be differ color\n",
    "\n",
    "\n",
    "**_Tagging_** - In corpus linguistics, part-of-speech tagging (POS tagging or PoS tagging or POST), also called grammatical tagging or word-category disambiguation, is the process of marking up a word in a text (corpus) as corresponding to a particular part of speech, based on both its definition and its context—i.e., its relationship with adjacent and related words in a phrase, sentence, or paragraph. A simplified form of this is commonly taught to school-age children, in the identification of words as nouns, verbs, adjectives, adverbs, etc.\n",
    "\n",
    "Once performed by hand, POS tagging is now done in the context of computational linguistics, using algorithms which associate discrete terms, as well as hidden parts of speech, in accordance with a set of descriptive tags. POS-tagging algorithms fall into two distinctive groups: rule-based and stochastic\n",
    "\n",
    "**_Parsing_** - Parsing (US: /ˈpɑːrsɪŋ/; UK: /ˈpɑːrzɪŋ/), syntax analysis or syntactic analysis is the process of analysing a string of symbols, either in natural language or in computer languages, conforming to the rules of a formal grammar. The term parsing comes from Latin pars (orationis), meaning part (of speech)\n",
    "\n",
    "The term has slightly different meanings in different branches of linguistics and computer science. Traditional sentence parsing is often performed as a method of understanding the exact meaning of a sentence or word, sometimes with the aid of devices such as sentence diagrams. It usually emphasizes the importance of grammatical divisions such as subject and predicate.\n",
    "\n",
    "Within computational linguistics the term is used to refer to the formal analysis by a computer of a sentence or other string of words into its constituents, resulting in a parse tree showing their syntactic relation to each other, which may also contain semantic and other information.\n",
    "\n",
    "The term is also used in psycholinguistics when describing language comprehension. In this context, parsing refers to the way that human beings analyze a sentence or phrase (in spoken language or text) \"in terms of grammatical constituents, identifying the parts of speech, syntactic relations, etc.\"[2] This term is especially common when discussing what linguistic cues help speakers to interpret garden-path sentences.\n",
    "\n",
    "**_TF*IDF_** - In information retrieval, tf–idf, short for term frequency–inverse document frequency, is a numerical statistic that is intended to reflect how important a word is to a document in a collection or corpus.[1] It is often used as a weighting factor in information retrieval, text mining, and user modeling. The tf-idf value increases proportionally to the number of times a word appears in the document, but is often offset by the frequency of the word in the corpus, which helps to adjust for the fact that some words appear more frequently in general. Nowadays, tf-idf is one of the most popular term-weighting schemes. For instance, 83% of text-based recommender systems in the domain of digital libraries use tf-idf.[2]\n",
    "\n",
    "Variations of the tf–idf weighting scheme are often used by search engines as a central tool in scoring and ranking a document's relevance given a user query. tf–idf can be successfully used for stop-words filtering in various subject fields including text summarization and classification.\n",
    "\n",
    "**_BM25_** - In information retrieval, Okapi BM25 (BM stands for Best Matching) is a ranking function used by search engines to rank matching documents according to their relevance to a given search query. It is based on the probabilistic retrieval framework developed in the 1970s and 1980s by Stephen E. Robertson, Karen Spärck Jones, and others.\n",
    "\n",
    "The name of the actual ranking function is BM25. To set the right context, however, it usually referred to as \"Okapi BM25\", since the Okapi information retrieval system, implemented at London's City University in the 1980s and 1990s, was the first system to implement this function.\n",
    "\n",
    "BM25, and its newer variants, e.g. BM25F (a version of BM25 that can take document structure and anchor text into account), represent state-of-the-art TF-IDF-like retrieval functions used in document retrieval.\n",
    "\n",
    "**_Heuristics_ ** - A heuristic technique (/hjuːˈrɪstɪk/; Ancient Greek: εὑρίσκω, \"find\" or \"discover\"), often called simply a heuristic, is any approach to problem solving, learning, or discovery that employs a practical method not guaranteed to be optimal or perfect, but sufficient for the immediate goals. Where finding an optimal solution is impossible or impractical, heuristic methods can be used to speed up the process of finding a satisfactory solution. Heuristics can be mental shortcuts that ease the cognitive load of making a decision. Examples of this method include using a rule of thumb, an educated guess, an intuitive judgment, guesstimate, stereotyping, profiling, or common sense.\n",
    "\n",
    "**_Ontology_** - In computer science and information science, an ontology is a formal naming and definition of the types, properties, and interrelationships of the entities that really or fundamentally exist for a particular domain of discourse. It is thus a practical application of philosophical ontology, with a taxonomy.\n",
    "\n",
    "An ontology compartmentalizes the variables needed for some set of computations and establishes the relationships between them.[1][2]\n",
    "\n",
    "The fields of artificial intelligence, the Semantic Web, systems engineering, software engineering, biomedical informatics, library science, enterprise bookmarking, and information architecture all create ontologies to limit complexity and to organize information. The ontology can then be applied to problem solving\n",
    "\n",
    "**_Taxonomy_** - Taxonomy is the practice and science of classification. The word is also used as a count noun: a taxonomy, or taxonomic scheme, is a particular classification. The word finds its roots in the Greek language τάξις, taxis (meaning 'order', 'arrangement') and νόμος, nomos ('law' or 'science'). Originally, taxonomy referred only to the classification of organisms or a particular classification of organisms. In a wider, more general sense, it may refer to a classification of things or concepts, as well as to the principles underlying such a classification. Taxonomy is different from meronomy which is dealing with the classification of parts of a whole.\n",
    "\n",
    "Many taxonomies have a hierarchical structure, but this is not a requirement. Taxonomy uses taxonomic units, known as taxa (singular taxon).\n",
    "\n",
    "**_NLTK_ ** - The Natural Language Toolkit, or more commonly NLTK, is a suite of libraries and programs for symbolic and statistical natural language processing (NLP) for English written in the Python programming language.\n",
    "\n",
    "NLTK is intended to support research and teaching in NLP or closely related areas, including empirical linguistics, cognitive science, artificial intelligence, information retrieval, and machine learning.[8] NLTK has been used successfully as a teaching tool, as an individual study tool, and as a platform for prototyping and building research systems. There are 32 universities in the US and 25 countries using NLTK in their courses. NLTK supports classification, tokenization, stemming, tagging, parsing, and semantic reasoning functionalities.\n",
    "\n",
    "\n",
    "**_Graph-Based Ranking (Patent)_ ** - The method includes determining a plurality of text units based upon the natural language text, associating the plurality of text units with a plurality of graph nodes, and determining at least one connecting relation between at least two of the plurality of text units. The method also includes associating the at least one connecting relation with at least one graph edge connecting at least two of the plurality of graph nodes and determining a plurality of rankings associated with the plurality of graph nodes based upon the at least one graph edge. The method can also include a graphical visualization of at least one important text unit in a natural language text or collection of texts. Methods for word sense disambiguation, keyword extraction, and sentence extraction are also provided.\n",
    "\n",
    "Example Softwares: Networkx, Google Page Rank, UW Interactive Data Lab\n",
    "\n",
    "**_Semantic Relations_ ** - Relationships (also known as relations) between objects in an ontology specify how objects are related to other objects. Typically a relation is of a particular type (or class) that specifies in what sense the object is related to the other object in the ontology. For example in the ontology that contains the concept Ford Explorer and the concept Ford Bronco might be related by a relation of type (is defined as a successor of). The full expression of that fact then becomes:\n",
    "\n",
    "Ford Explorer is defined as a successor of : Ford Bronco\n",
    "This tells us that the Explorer is the model that replaced the Bronco. This example also illustrates that the relation has a direction of expression. The inverse expression expresses the same fact, but with a reverse phrase in natural language.\n",
    "\n",
    "Much of the power of ontologies comes from the ability to describe relations. Together, the set of relations describes the semantics of the domain. The set of used relation types (classes of relations) and their subsumption hierarchy describe the expression power of the language in which the ontology is expressed.\n",
    "\n",
    "**_Semantic Similarity_ ** - Semantic similarity is a metric defined over a set of documents or terms, where the idea of distance between them is based on the likeness of their meaning or semantic content as opposed to similarity which can be estimated regarding their syntactical representation (e.g. their string format). These are mathematical tools used to estimate the strength of the semantic relationship between units of language, concepts or instances, through a numerical description obtained according to the comparison of information supporting their meaning or describing their nature.[1][2] The term semantic similarity is often confused with semantic relatedness. Semantic relatedness includes any relation between two terms, while semantic similarity only includes \"is a\" relations.[3] For example, \"car\" is similar to \"bus\", but is also related to \"road\" and \"driving\".\n",
    "\n",
    "Computationally, semantic similarity can be estimated by defining a topological similarity, by using ontologies to define the distance between terms/concepts. For example, a naive metric for the comparison of concepts ordered in a partially ordered set and represented as nodes of a directed acyclic graph (e.g., a taxonomy), would be the shortest-path linking the two concept nodes. Based on text analyses, semantic relatedness between units of language (e.g., words, sentences) can also be estimated using statistical means such as a vector space model to correlate words and textual contexts from a suitable text corpus.\n",
    "\n",
    "Several tools are used to measure the semantic similarity between concepts such as WNetSS API,[4] which is a Java API manipulating a wide variety of semantic similarity measurements based on the WordNet semantic resource.\n",
    "\n",
    "\n",
    "**_Topic Based Clustering_ ** - Document clustering (or text clustering) is the application of cluster analysis to textual documents. It has applications in automatic document organization, topic extraction and fast information retrieval or filtering.\n",
    "\n",
    "\n",
    "**_Regular Expression_ ** - A regular expression, regex or regexp[1] (sometimes called a rational expression)[2][3] is, in theoretical computer science and formal language theory, a sequence of characters that define a search pattern. Usually this pattern is then used by string searching algorithms for \"find\" or \"find and replace\" operations on strings. Regular expressions are used in search engines, search and replace dialogs of word processors and text editors, in text processing utilities such as sed and AWK and in lexical analysis. Many programming languages provide regex capabilities, built-in, or via libraries.\n",
    "\n",
    "\n",
    "**_Wordnet_** - WordNet is a lexical database for the English language.[1] It groups English words into sets of synonyms called synsets, provides short definitions and usage examples, and records a number of relations among these synonym sets or their members. WordNet can thus be seen as a combination of dictionary and thesaurus. While it is accessible to human users via a web browser,[2] its primary use is in automatic text analysis and artificial intelligence applications\n",
    "\n",
    "**_Synsets_** - Nouns, verbs, adjectives and adverbs are grouped into sets of cognitive synonyms (synsets), each expressing a distinct concept. Synsets are interlinked by means of conceptual-semantic and lexical relations. The resulting network of meaningfully related words and concepts can be navigated with the browser. http://wordnetweb.princeton.edu/perl/webwn\n",
    "\n",
    "**_Hyperonymy_** - The most frequently encoded relation among synsets is the super-subordinate relation (also called hyperonymy, hyponymy or ISA relation). It links more general synsets like {furniture, piece_of_furniture} to increasingly specific ones like {bed} and {bunkbed}. Thus, WordNet states that the category furniture includes bed, which in turn includes bunkbed; conversely, concepts like bed and bunkbed make up the category furniture\n",
    "\n",
    "**_Meronymy_** - Meronymy, the part-whole relation holds between synsets like {chair} and {back, backrest}, {seat} and {leg}. Parts are inherited from their superordinates: if a chair has legs, then an armchair has legs as well.\n",
    "\n",
    "**_Cross-POS-Relations_** - The majority of the WordNet’s relations connect words from the same part of speech (POS). Thus, WordNet really consists of four sub-nets, one each for nouns, verbs, adjectives and adverbs, with few cross-POS pointers. Cross-POS relations include the “morphosemantic” links that hold among semantically similar words sharing a stem with the same meaning: observe (verb), observant (adjective) observation, observatory (nouns). In many of the noun-verb pairs the semantic role of the noun with respect to the verb has been specified: {sleeper, sleeping_car} is the LOCATION for {sleep} and {painter}is the AGENT of {paint}, while {painting, picture} is its RESULT.\n",
    "\n"
   ]
  },
  {
   "cell_type": "markdown",
   "metadata": {},
   "source": [
    "## Alright showtime!!\n",
    "\n",
    "Here’s a simplified and compact implementation of the “noun phrases only” heuristic method"
   ]
  },
  {
   "cell_type": "code",
   "execution_count": 1,
   "metadata": {
    "collapsed": true
   },
   "outputs": [],
   "source": [
    "import nltk.data\n",
    "\n",
    "def extract_candidate_chunks(text, grammar=r'KT: {(<JJ>* <NN.*>+ <IN>)? <JJ>* <NN.*>+}'):\n",
    "    import itertools, nltk, string\n",
    "    \n",
    "    # exclude candidates that are stop words or entirely punctuation\n",
    "    punct = set(string.punctuation)\n",
    "    stop_words = set(nltk.corpus.stopwords.words('english'))\n",
    "    # tokenize, POS-tag, and chunk using regular expressions\n",
    "    chunker = nltk.chunk.regexp.RegexpParser(grammar)\n",
    "    tagged_sents = nltk.pos_tag_sents(nltk.word_tokenize(sent) for sent in nltk.sent_tokenize(text))\n",
    "    all_chunks = list(itertools.chain.from_iterable(nltk.chunk.tree2conlltags(chunker.parse(tagged_sent))\n",
    "                                                    for tagged_sent in tagged_sents))\n",
    "    # join constituent chunk words into a single chunked phrase\n",
    "    candidates = [' '.join(word for word, pos, chunk in group).lower()\n",
    "                  for key, group in itertools.groupby(all_chunks, lambda (word,pos,chunk): chunk != 'O') if key]\n",
    "\n",
    "    return [cand for cand in candidates\n",
    "            if cand not in stop_words and not all(char in punct for char in cand)]"
   ]
  },
  {
   "cell_type": "code",
   "execution_count": 2,
   "metadata": {
    "collapsed": false
   },
   "outputs": [
    {
     "name": "stdout",
     "output_type": "stream",
     "text": [
      "[nltk_data] Downloading package averaged_perceptron_tagger to\n",
      "[nltk_data]     /Users/anmehra/nltk_data...\n",
      "[nltk_data]   Package averaged_perceptron_tagger is already up-to-\n",
      "[nltk_data]       date!\n"
     ]
    },
    {
     "data": {
      "text/plain": [
       "True"
      ]
     },
     "execution_count": 2,
     "metadata": {},
     "output_type": "execute_result"
    }
   ],
   "source": [
    "## One time run .. \n",
    "\n",
    "nltk.download('averaged_perceptron_tagger')"
   ]
  },
  {
   "cell_type": "code",
   "execution_count": 3,
   "metadata": {
    "collapsed": false,
    "scrolled": false
   },
   "outputs": [
    {
     "data": {
      "text/plain": [
       "{'adjectives',\n",
       " 'adverbs',\n",
       " 'agent',\n",
       " 'cross-pos-relations',\n",
       " 'cross-posrelations',\n",
       " 'few cross-pos pointers',\n",
       " 'location',\n",
       " 'majority',\n",
       " 'noun with respect',\n",
       " 'nouns',\n",
       " 'observation',\n",
       " 'observatory',\n",
       " 'observe',\n",
       " 'paint',\n",
       " 'painter',\n",
       " 'painting',\n",
       " 'picture',\n",
       " 'pos',\n",
       " 'relations',\n",
       " 'result',\n",
       " 'same meaning',\n",
       " 'same part of speech',\n",
       " 'semantic role',\n",
       " 'sleeper',\n",
       " 'sleeping_car',\n",
       " 'stem',\n",
       " 'sub-nets',\n",
       " 'verb',\n",
       " 'verbs',\n",
       " 'wordnet',\n",
       " 'words',\n",
       " '\\xe2\\x80\\x9cmorphosemantic\\xe2\\x80\\x9d links'}"
      ]
     },
     "execution_count": 3,
     "metadata": {},
     "output_type": "execute_result"
    }
   ],
   "source": [
    "# Simple text to undertsnd this expression..\n",
    "text = \" World of Tank is mind-blowing game. It's insanely addictive. Ryan loves to play this\\\n",
    " game, he get's so carried away when he play this game.\"\n",
    "\n",
    "# Text with intentional erros..\n",
    "text = \" World fo Tank is mind-blowing game. It's insanely addictive. Ryan lves to play this\\\n",
    " game, he get's so carried away when he play this gmae...\"\n",
    "\n",
    "#Sample text from above documentation..\n",
    "text = \"Cross-POS-Relations The majority of the WordNet's relations connect words \\\n",
    "from the same part of speech (POS). Thus, WordNet really consists of four sub-nets, \\\n",
    "one each for nouns, verbs, adjectives and adverbs, with few cross-POS pointers. Cross-POS\\\n",
    "relations include the “morphosemantic” links that hold among semantically similar words\\\n",
    "sharing a stem with the same meaning: observe (verb), observant (adjective) observation,\\\n",
    "observatory (nouns). In many of the noun-verb pairs the semantic role of the noun with \\\n",
    "respect to the verb has been specified: {sleeper, sleeping_car} is the LOCATION for {sleep}\\\n",
    "and {painter} is the AGENT of {paint}, while {painting, picture} is its RESULT.\"\n",
    "\n",
    "#Pay attention to last selection, double quotes, special characters giving hard time\n",
    "set(extract_candidate_chunks(text))"
   ]
  },
  {
   "cell_type": "markdown",
   "metadata": {},
   "source": [
    "##### Additional cleaning and filtering code improves the list a bit and helps to makes up for tokenizing/tagging/chunking errors. For comparison, the original TextRank algorithm performs best when extracting all (unigram) nouns and adjectives, like so:"
   ]
  },
  {
   "cell_type": "code",
   "execution_count": 4,
   "metadata": {
    "collapsed": true
   },
   "outputs": [],
   "source": [
    "def extract_candidate_words(text, good_tags=set(['JJ','JJR','JJS','NN','NNP','NNS','NNPS'])):\n",
    "    import itertools, nltk, string\n",
    "\n",
    "    # exclude candidates that are stop words or entirely punctuation\n",
    "    punct = set(string.punctuation)\n",
    "    stop_words = set(nltk.corpus.stopwords.words('english'))\n",
    "    # tokenize and POS-tag words\n",
    "    tagged_words = itertools.chain.from_iterable(nltk.pos_tag_sents(nltk.word_tokenize(sent)\n",
    "                                                                    for sent in nltk.sent_tokenize(text)))\n",
    "    # filter on certain POS tags and lowercase all words\n",
    "    candidates = [word.lower() for word, tag in tagged_words\n",
    "                  if tag in good_tags and word.lower() not in stop_words\n",
    "                  and not all(char in punct for char in word)]\n",
    "\n",
    "    return candidates"
   ]
  },
  {
   "cell_type": "code",
   "execution_count": 5,
   "metadata": {
    "collapsed": false
   },
   "outputs": [
    {
     "data": {
      "text/plain": [
       "{'adjective',\n",
       " 'adjectives',\n",
       " 'adverbs',\n",
       " 'agent',\n",
       " 'cross-pos',\n",
       " 'cross-pos-relations',\n",
       " 'cross-posrelations',\n",
       " 'links',\n",
       " 'location',\n",
       " 'majority',\n",
       " 'many',\n",
       " 'meaning',\n",
       " 'noun',\n",
       " 'noun-verb',\n",
       " 'nouns',\n",
       " 'observant',\n",
       " 'observation',\n",
       " 'observatory',\n",
       " 'observe',\n",
       " 'paint',\n",
       " 'painter',\n",
       " 'painting',\n",
       " 'part',\n",
       " 'picture',\n",
       " 'pointers',\n",
       " 'pos',\n",
       " 'relations',\n",
       " 'respect',\n",
       " 'result',\n",
       " 'role',\n",
       " 'semantic',\n",
       " 'similar',\n",
       " 'sleep',\n",
       " 'sleeper',\n",
       " 'sleeping_car',\n",
       " 'speech',\n",
       " 'stem',\n",
       " 'sub-nets',\n",
       " 'verb',\n",
       " 'verbs',\n",
       " 'wordnet',\n",
       " 'words',\n",
       " '\\xe2\\x80\\x9cmorphosemantic\\xe2\\x80\\x9d'}"
      ]
     },
     "execution_count": 5,
     "metadata": {},
     "output_type": "execute_result"
    }
   ],
   "source": [
    "# Simple text to undertsnd this expression..\n",
    "text = \" World of Tank is mind-blowing game. It's insanely addictive. Ryan loves to play this\\\n",
    " game, he get's so carried away when he play this game.\"\n",
    "\n",
    "# Text with intentional erros..\n",
    "text = \" World fo Tank is mind-blowing game. It's insanely addictive. Ryan lves to play this\\\n",
    " game, he get's so carried away when he play this gmae...\"\n",
    "\n",
    "#Sample text from above documentation..\n",
    "text = \"Cross-POS-Relations - The majority of the WordNet's relations connect words \\\n",
    "from the same part of speech (POS). Thus, WordNet really consists of four sub-nets, \\\n",
    "one each for nouns, verbs, adjectives and adverbs, with few cross-POS pointers. Cross-POS\\\n",
    "relations include the “morphosemantic” links that hold among semantically similar words\\\n",
    "sharing a stem with the same meaning: observe (verb), observant (adjective) observation,\\\n",
    "observatory (nouns). In many of the noun-verb pairs the semantic role of the noun with \\\n",
    "respect to the verb has been specified: {sleeper, sleeping_car} is the LOCATION for {sleep}\\\n",
    "and {painter} is the AGENT of {paint}, while {painting, picture} is its RESULT.\"\n",
    "\n",
    "#Pay attention to last selection, double quotes, special characters giving hard time\n",
    "set(extract_candidate_words(text))"
   ]
  },
  {
   "cell_type": "markdown",
   "metadata": {},
   "source": [
    "##### Frequency statistic-based approach using scikit-learn or gensim"
   ]
  },
  {
   "cell_type": "code",
   "execution_count": 6,
   "metadata": {
    "collapsed": true
   },
   "outputs": [],
   "source": [
    "def score_keyphrases_by_tfidf(texts, candidates='chunks'):\n",
    "    import gensim, nltk\n",
    "    \n",
    "    # extract candidates from each text in texts, either chunks or words\n",
    "    if candidates == 'chunks':\n",
    "        boc_texts = [extract_candidate_chunks(text) for text in texts.fileids()]\n",
    "    elif candidates == 'words':\n",
    "        boc_texts = [extract_candidate_words(text) for text in texts.fileids()]\n",
    "    print (\"Anshoo 1\", boc_texts)\n",
    "    # make gensim dictionary and corpus\n",
    "    dictionary = gensim.corpora.Dictionary(boc_texts)\n",
    "    corpus = [dictionary.doc2bow(boc_text) for boc_text in boc_texts]\n",
    "    # transform corpus with tf*idf model\n",
    "    tfidf = gensim.models.TfidfModel(corpus)\n",
    "    corpus_tfidf = tfidf[corpus]\n",
    "    print (corpus_tfidf)\n",
    "    return corpus_tfidf, dictionary"
   ]
  },
  {
   "cell_type": "code",
   "execution_count": 7,
   "metadata": {
    "collapsed": false,
    "scrolled": false
   },
   "outputs": [
    {
     "name": "stdout",
     "output_type": "stream",
     "text": [
      "('Anshoo 1', [['corpus_text.txt']])\n",
      "<gensim.interfaces.TransformedCorpus object at 0x112c486d0>\n",
      "('Anshoo:', 0, [])\n",
      "Document 'corpus_text.txt' key phrases:\n",
      "\n"
     ]
    }
   ],
   "source": [
    "import pprint\n",
    "import heapq\n",
    "from operator import itemgetter\n",
    "from nltk.corpus.reader.plaintext import PlaintextCorpusReader\n",
    "\n",
    "\n",
    "# Corpus variables\n",
    "CORPUS_TEXT = '/Users/anmehra/Dropbox/Dmirty_TS_AI'\n",
    "texts = PlaintextCorpusReader(CORPUS_TEXT,'.*\\.txt')\n",
    "\n",
    "tfidfs, id2word = score_keyphrases_by_tfidf(texts, 'words')\n",
    "fileids = texts.fileids()\n",
    "\n",
    "# Print top keywords by TF-IDF\n",
    "for idx, doc in enumerate(tfidfs):\n",
    "    print (\"Anshoo:\", idx, doc)\n",
    "    print(\"Document '{}' key phrases:\".format(fileids[idx]))\n",
    "    # Get top 10 terms by TF-IDF score\n",
    "    for wid, score in heapq.nlargest(10, doc, key=itemgetter(1)):\n",
    "        print(\"{:0.3f}: {}\".format(score, id2word[wid]))\n",
    "\n",
    "print(\"\")"
   ]
  },
  {
   "cell_type": "markdown",
   "metadata": {
    "collapsed": true
   },
   "source": [
    "#### Skipping to Textacy Library created by Burton DeWilde, to expedite the work .."
   ]
  },
  {
   "cell_type": "code",
   "execution_count": 254,
   "metadata": {
    "collapsed": true
   },
   "outputs": [],
   "source": [
    "import spacy\n",
    "import textacy\n",
    "import textacy.datasets\n",
    "from textacy.extract import named_entities\n",
    "from __future__ import unicode_literals"
   ]
  },
  {
   "cell_type": "code",
   "execution_count": 9,
   "metadata": {
    "collapsed": false
   },
   "outputs": [],
   "source": [
    "content = unicode('''\n",
    "...     The apparent symmetry between the quark and lepton families of\n",
    "...     the Standard Model (SM) are, at the very least, suggestive of\n",
    "...     a more fundamental relationship between them. In some Beyond the\n",
    "...     Standard Model theories, such interactions are mediated by\n",
    "...     leptoquarks (LQs): hypothetical color-triplet bosons with both\n",
    "...     lepton and baryon number and fractional electric charge. My $.002.\n",
    "...     Contact: Anshoo, 900-300-2000, anshoomehra@gmail.com,\n",
    "...     anshoomehra.com, 222 Innovation Lane. Inspired by Bill Gates.\n",
    "...     Donald Trump is running for president. Hillary Clinton is, too.''')\n",
    "\n",
    "metadata = {\n",
    "...     'title': 'A Search for 2nd-generation Leptoquarks at √s = 7 TeV',\n",
    "...     'author': 'Burton DeWilde',\n",
    "...     'pub_date': '2012-08-01'}"
   ]
  },
  {
   "cell_type": "markdown",
   "metadata": {},
   "source": [
    "##### Pre-Processing Functions"
   ]
  },
  {
   "cell_type": "code",
   "execution_count": 10,
   "metadata": {
    "collapsed": false
   },
   "outputs": [
    {
     "data": {
      "text/plain": [
       "u'\\n    The apparent symmetry between the quark and lepton families of\\n    the Standard Model (SM) are, at the very least, suggestive of\\n    a more fundamental relationship between them. In some Beyond the\\n    Standard Model theories, such interactions are mediated by\\n    leptoquarks (LQs): hypothetical color-triplet bosons with both\\n    lepton and baryon number and fractional electric charge. My $.002.\\n    Contact: Anshoo, 900-300-2000, anshoomehra@gmail.com,\\n    anshoomehra.com, 222 Innovation Lane. Inspired by Bill Gates.\\n    Donald Trump is running for president. Hillary Clinton is, too.'"
      ]
     },
     "execution_count": 10,
     "metadata": {},
     "output_type": "execute_result"
    }
   ],
   "source": [
    "content = textacy.preprocess.fix_bad_unicode(content, normalization=u'NFC')\n",
    "\n",
    "content"
   ]
  },
  {
   "cell_type": "code",
   "execution_count": 11,
   "metadata": {
    "collapsed": false
   },
   "outputs": [
    {
     "data": {
      "text/plain": [
       "u'The apparent symmetry between the quark and lepton families of\\n the Standard Model (SM) are, at the very least, suggestive of\\n a more fundamental relationship between them. In some Beyond the\\n Standard Model theories, such interactions are mediated by\\n leptoquarks (LQs): hypothetical color-triplet bosons with both\\n lepton and baryon number and fractional electric charge. My $.002.\\n Contact: Anshoo, 900-300-2000, anshoomehra@gmail.com,\\n anshoomehra.com, 222 Innovation Lane. Inspired by Bill Gates.\\n Donald Trump is running for president. Hillary Clinton is, too.'"
      ]
     },
     "execution_count": 11,
     "metadata": {},
     "output_type": "execute_result"
    }
   ],
   "source": [
    "content = textacy.preprocess.normalize_whitespace(content)\n",
    "\n",
    "content"
   ]
  },
  {
   "cell_type": "code",
   "execution_count": 12,
   "metadata": {
    "collapsed": false
   },
   "outputs": [
    {
     "data": {
      "text/plain": [
       "u'The apparent symmetry between the quark and lepton families of\\n the Standard Model (SM) are, at the very least, suggestive of\\n a more fundamental relationship between them. In some Beyond the\\n Standard Model theories, such interactions are mediated by\\n leptoquarks (LQs): hypothetical color-triplet bosons with both\\n lepton and baryon number and fractional electric charge. My $.002.\\n Contact: Anshoo, 900-300-2000, anshoomehra@gmail.com,\\n anshoomehra.com, 222 Innovation Lane. Inspired by Bill Gates.\\n Donald Trump is running for president. Hillary Clinton is, too.'"
      ]
     },
     "execution_count": 12,
     "metadata": {},
     "output_type": "execute_result"
    }
   ],
   "source": [
    "content = textacy.preprocess.remove_accents(content, method=u'unicode')\n",
    "\n",
    "content"
   ]
  },
  {
   "cell_type": "code",
   "execution_count": 13,
   "metadata": {
    "collapsed": false
   },
   "outputs": [
    {
     "data": {
      "text/plain": [
       "u'The apparent symmetry between the quark and lepton families of\\n the Standard Model SM are at the very least suggestive of\\n a more fundamental relationship between them In some Beyond the\\n Standard Model theories such interactions are mediated by\\n leptoquarks LQs hypothetical colortriplet bosons with both\\n lepton and baryon number and fractional electric charge My $002\\n Contact Anshoo 9003002000 anshoomehragmailcom\\n anshoomehracom 222 Innovation Lane Inspired by Bill Gates\\n Donald Trump is running for president Hillary Clinton is too'"
      ]
     },
     "execution_count": 13,
     "metadata": {},
     "output_type": "execute_result"
    }
   ],
   "source": [
    "content = textacy.preprocess.remove_punct(content, marks=None)\n",
    "\n",
    "content"
   ]
  },
  {
   "cell_type": "code",
   "execution_count": 14,
   "metadata": {
    "collapsed": false
   },
   "outputs": [
    {
     "data": {
      "text/plain": [
       "u'The apparent symmetry between the quark and lepton families of\\n the Standard Model SM are at the very least suggestive of\\n a more fundamental relationship between them In some Beyond the\\n Standard Model theories such interactions are mediated by\\n leptoquarks LQs hypothetical colortriplet bosons with both\\n lepton and baryon number and fractional electric charge My USD002\\n Contact Anshoo 9003002000 anshoomehragmailcom\\n anshoomehracom 222 Innovation Lane Inspired by Bill Gates\\n Donald Trump is running for president Hillary Clinton is too'"
      ]
     },
     "execution_count": 14,
     "metadata": {},
     "output_type": "execute_result"
    }
   ],
   "source": [
    "content = textacy.preprocess.replace_currency_symbols(content, replace_with=None)\n",
    "\n",
    "content"
   ]
  },
  {
   "cell_type": "code",
   "execution_count": 15,
   "metadata": {
    "collapsed": false
   },
   "outputs": [
    {
     "data": {
      "text/plain": [
       "u'The apparent symmetry between the quark and lepton families of\\n the Standard Model SM are at the very least suggestive of\\n a more fundamental relationship between them In some Beyond the\\n Standard Model theories such interactions are mediated by\\n leptoquarks LQs hypothetical colortriplet bosons with both\\n lepton and baryon number and fractional electric charge My USD002\\n Contact Anshoo 9003002000 anshoomehragmailcom\\n anshoomehracom 222 Innovation Lane Inspired by Bill Gates\\n Donald Trump is running for president Hillary Clinton is too'"
      ]
     },
     "execution_count": 15,
     "metadata": {},
     "output_type": "execute_result"
    }
   ],
   "source": [
    "content = textacy.preprocess.replace_emails(content, replace_with=u'*EMAIL*')\n",
    "\n",
    "content"
   ]
  },
  {
   "cell_type": "code",
   "execution_count": 16,
   "metadata": {
    "collapsed": false
   },
   "outputs": [
    {
     "data": {
      "text/plain": [
       "u'The apparent symmetry between the quark and lepton families of\\n the Standard Model SM are at the very least suggestive of\\n a more fundamental relationship between them In some Beyond the\\n Standard Model theories such interactions are mediated by\\n leptoquarks LQs hypothetical colortriplet bosons with both\\n lepton and baryon number and fractional electric charge My USD002\\n Contact Anshoo *PHONE* anshoomehragmailcom\\n anshoomehracom 222 Innovation Lane Inspired by Bill Gates\\n Donald Trump is running for president Hillary Clinton is too'"
      ]
     },
     "execution_count": 16,
     "metadata": {},
     "output_type": "execute_result"
    }
   ],
   "source": [
    "content = textacy.preprocess.replace_phone_numbers(content, replace_with=u'*PHONE*')\n",
    "\n",
    "content"
   ]
  },
  {
   "cell_type": "code",
   "execution_count": 17,
   "metadata": {
    "collapsed": false
   },
   "outputs": [
    {
     "name": "stdout",
     "output_type": "stream",
     "text": [
      "The apparent symmetry between the quark and lepton families of\n",
      " the Standard Model SM are at the very least suggestive of\n",
      " a more fundamental relationship between them In some Beyond the\n",
      " Standard Model theories such interactions are mediated by\n",
      " leptoquarks LQs hypothetical colortriplet bosons with both\n",
      " lepton and baryon number and fractional electric charge My USD002\n",
      " Contact Anshoo *PHONE* anshoomehragmailcom\n",
      " anshoomehracom *NUMBER* Innovation Lane Inspired by Bill Gates\n",
      " Donald Trump is running for president Hillary Clinton is too\n",
      "\n",
      "\n",
      "***DOES NOT WORK in Some Cases - See 002**\n"
     ]
    }
   ],
   "source": [
    "content = textacy.preprocess.replace_numbers(content, replace_with=u'*NUMBER*')\n",
    "\n",
    "print(content)\n",
    "print(\"\")\n",
    "print(\"\")\n",
    "print(\"***DOES NOT WORK in Some Cases - See 002**\")"
   ]
  },
  {
   "cell_type": "code",
   "execution_count": 18,
   "metadata": {
    "collapsed": false
   },
   "outputs": [
    {
     "data": {
      "text/plain": [
       "u'URL Test : *URL*'"
      ]
     },
     "execution_count": 18,
     "metadata": {},
     "output_type": "execute_result"
    }
   ],
   "source": [
    "content_1 = \"URL Test : http://anshoomehra.com\"\n",
    "content_1 = textacy.preprocess.replace_urls(content_1, replace_with=u'*URL*')\n",
    "\n",
    "content_1"
   ]
  },
  {
   "cell_type": "markdown",
   "metadata": {},
   "source": [
    "##### Information Extraction"
   ]
  },
  {
   "cell_type": "code",
   "execution_count": 19,
   "metadata": {
    "collapsed": false
   },
   "outputs": [
    {
     "data": {
      "text/plain": [
       "Doc(90 tokens; \"The apparent symmetry between the quark and lep...\")"
      ]
     },
     "execution_count": 19,
     "metadata": {},
     "output_type": "execute_result"
    }
   ],
   "source": [
    "#Create Spacy Doc Object from Content .. \n",
    "\n",
    "doc = textacy.Doc(content)\n",
    "\n",
    "doc\n"
   ]
  },
  {
   "cell_type": "code",
   "execution_count": 33,
   "metadata": {
    "collapsed": false
   },
   "outputs": [
    {
     "name": "stdout",
     "output_type": "stream",
     "text": [
      "Acronyms & Definitions\n",
      "PHONE\n",
      "NUMBER\n",
      "SM\n",
      "LQs\n"
     ]
    }
   ],
   "source": [
    "spacy.load('en')\n",
    "a_d = textacy.extract.acronyms_and_definitions(doc, known_acro_defs=None)\n",
    "\n",
    "print(\"Acronyms & Definitions\")\n",
    "for en in a_d:\n",
    "    print(en)\n"
   ]
  },
  {
   "cell_type": "code",
   "execution_count": 32,
   "metadata": {
    "collapsed": false
   },
   "outputs": [
    {
     "name": "stdout",
     "output_type": "stream",
     "text": [
      "Entities\n",
      "Standard Model SM\n",
      "USD002\n",
      " Contact Anshoo\n",
      "Bill Gates\n",
      "Donald Trump\n",
      "Hillary Clinton\n"
     ]
    }
   ],
   "source": [
    "nm_entities = list(textacy.extract.named_entities(doc, include_types=None,\\\n",
    "                    exclude_types=None,drop_determiners=True, min_freq=1))\n",
    "\n",
    "nlp = spacy.load('en')\n",
    "spacy_doc = nlp(content)\n",
    "nm_entities = list(textacy.extract.named_entities(spacy_doc))\n",
    "\n",
    "print(\"Entities\")\n",
    "for en in nm_entities:\n",
    "    print(en)\n"
   ]
  },
  {
   "cell_type": "code",
   "execution_count": 22,
   "metadata": {
    "collapsed": false
   },
   "outputs": [
    {
     "name": "stdout",
     "output_type": "stream",
     "text": [
      "n-grams:\n",
      "\n",
      "apparent symmetry\n",
      "lepton families\n",
      "Standard Model\n",
      "Model SM\n",
      "fundamental relationship\n",
      "Standard Model\n",
      "Model theories\n",
      "leptoquarks LQs\n",
      "LQs hypothetical\n",
      "hypothetical colortriplet\n",
      "colortriplet bosons\n",
      "baryon number\n",
      "fractional electric\n",
      "electric charge\n",
      "Contact Anshoo\n",
      "Innovation Lane\n",
      "Lane Inspired\n",
      "Bill Gates\n",
      "Donald Trump\n",
      "president Hillary\n",
      "Hillary Clinton\n"
     ]
    }
   ],
   "source": [
    "ngrams = textacy.extract.ngrams(doc, 2, filter_stops=True,\\\n",
    "                                filter_punct=True,\\\n",
    "                               filter_nums=False,\\\n",
    "                               include_pos=None,\\\n",
    "                                exclude_pos=None, min_freq=1)\n",
    "\n",
    "print(\"n-grams:\")\n",
    "print(\"\")\n",
    "for en in ngrams:\n",
    "    print(en)"
   ]
  },
  {
   "cell_type": "code",
   "execution_count": 23,
   "metadata": {
    "collapsed": false
   },
   "outputs": [
    {
     "name": "stdout",
     "output_type": "stream",
     "text": [
      "nouns:\n",
      "\n",
      "apparent symmetry\n",
      "quark\n",
      "lepton\n",
      "families\n",
      "Standard Model SM\n",
      "more fundamental relationship\n",
      "them\n",
      "\n",
      " Standard Model theories\n",
      "such interactions\n",
      "leptoquarks\n",
      "hypothetical colortriplet bosons\n",
      "\n",
      " lepton\n",
      "baryon number\n",
      "fractional electric charge\n",
      "* Innovation Lane\n",
      "Bill Gates\n",
      " Donald Trump\n",
      "president\n",
      "Hillary Clinton\n"
     ]
    }
   ],
   "source": [
    "spacy.load('en')\n",
    "nouns = textacy.extract.noun_chunks(doc, drop_determiners=True, min_freq=1)\n",
    "\n",
    "print(\"nouns:\")\n",
    "print(\"\")\n",
    "for en in nouns:\n",
    "    print(en)"
   ]
  },
  {
   "cell_type": "code",
   "execution_count": 73,
   "metadata": {
    "collapsed": false
   },
   "outputs": [
    {
     "name": "stdout",
     "output_type": "stream",
     "text": [
      "('Reg Exp Output:', <generator object pos_regex_matches at 0x125075550>)\n",
      "\n",
      "***PROBLEM PARSING OUTPUT****\n"
     ]
    }
   ],
   "source": [
    "# noun phrase: r’<DET>? (<NOUN>+ <ADP|CONJ>)* <NOUN>+’\n",
    "# compound nouns: r’<NOUN>+’\n",
    "# verb phrase: r’<VERB>?<ADV>*<VERB>+’\n",
    "# prepositional phrase: r’<PREP> <DET>? (<NOUN>+<ADP>)* <NOUN>+’\n",
    "reg_ex_match = textacy.extract.pos_regex_matches(doc,\\\n",
    "                        textacy.constants.ACRONYM_REGEX)\n",
    "\n",
    "print(\"Reg Exp Output:\", reg_ex_match)\n",
    "print(\"\")\n",
    "print(\"***PROBLEM PARSING OUTPUT****\")\n",
    "# for en in reg_ex_match:\n",
    "#     for dd in en:\n",
    "#         print (dd)"
   ]
  },
  {
   "cell_type": "code",
   "execution_count": 74,
   "metadata": {
    "collapsed": false,
    "scrolled": false
   },
   "outputs": [
    {
     "data": {
      "text/plain": [
       "{428L: 1,\n",
       " 1220L: 1,\n",
       " 1338L: 1,\n",
       " 2135L: 1,\n",
       " 2197L: 1,\n",
       " 2666L: 1,\n",
       " 2836L: 1,\n",
       " 3323L: 1,\n",
       " 3331L: 1,\n",
       " 4114L: 1,\n",
       " 4411L: 1,\n",
       " 4981L: 1,\n",
       " 5425L: 1,\n",
       " 6804L: 1,\n",
       " 7025L: 1,\n",
       " 8039L: 1,\n",
       " 59744L: 1,\n",
       " 154186L: 1,\n",
       " 178453L: 1,\n",
       " 214139L: 1,\n",
       " 347588L: 1,\n",
       " 361392L: 2,\n",
       " 368955L: 1,\n",
       " 388386L: 1,\n",
       " 404448L: 1,\n",
       " 522623L: 1,\n",
       " 536615L: 1,\n",
       " 553226L: 1,\n",
       " 565706L: 1,\n",
       " 576246L: 1,\n",
       " 639878L: 1,\n",
       " 663383L: 2,\n",
       " 723786L: 1,\n",
       " 776980L: 2,\n",
       " 776981L: 1,\n",
       " 776982L: 1,\n",
       " 776984L: 1,\n",
       " 776985L: 1,\n",
       " 776986L: 1,\n",
       " 776988L: 1,\n",
       " 776990L: 1,\n",
       " 776991L: 1}"
      ]
     },
     "execution_count": 74,
     "metadata": {},
     "output_type": "execute_result"
    }
   ],
   "source": [
    "doc.to_bag_of_words(lemmatize=False, as_strings=False)"
   ]
  },
  {
   "cell_type": "code",
   "execution_count": 194,
   "metadata": {
    "collapsed": false
   },
   "outputs": [
    {
     "data": {
      "text/plain": [
       "{u'apparent symmetry between the quark': 1,\n",
       " u'baryon number and fractional electric': 1,\n",
       " u'bill gates': 1,\n",
       " u'donald trump': 1,\n",
       " u'fractional electric charge -PRON- usd002': 1,\n",
       " u'hillary clinton': 1,\n",
       " u'innovation lane inspire by bill': 1,\n",
       " u'lane inspire by bill gates': 1,\n",
       " u'leptoquark lqs hypothetical colortriplet boson': 1,\n",
       " u'number and fractional electric charge': 1,\n",
       " u'run for president hillary clinton': 1,\n",
       " u'standard model sm': 1,\n",
       " u'standard model theory such interaction': 1,\n",
       " u'theory such interaction be mediate': 1,\n",
       " u'trump be run for president': 1,\n",
       " u'usd002 \\n  contact anshoo': 1}"
      ]
     },
     "execution_count": 194,
     "metadata": {},
     "output_type": "execute_result"
    }
   ],
   "source": [
    "terms = doc.to_bag_of_terms(ngrams=5, named_entities=True,\\\n",
    "                    normalize=u'lemma',\\\n",
    "                    lemmatize=None, lowercase=None,\\\n",
    "                    as_strings=True, weighting=u'count',\\\n",
    "                    filter_stops=True   )\n",
    "\n",
    "terms"
   ]
  },
  {
   "cell_type": "code",
   "execution_count": 76,
   "metadata": {
    "collapsed": false
   },
   "outputs": [
    {
     "data": {
      "text/plain": [
       "The apparent symmetry"
      ]
     },
     "execution_count": 76,
     "metadata": {},
     "output_type": "execute_result"
    }
   ],
   "source": [
    "doc[:3]"
   ]
  },
  {
   "cell_type": "code",
   "execution_count": 77,
   "metadata": {
    "collapsed": false
   },
   "outputs": [
    {
     "data": {
      "text/plain": [
       "and"
      ]
     },
     "execution_count": 77,
     "metadata": {},
     "output_type": "execute_result"
    }
   ],
   "source": [
    "doc[6]"
   ]
  },
  {
   "cell_type": "code",
   "execution_count": 78,
   "metadata": {
    "collapsed": false
   },
   "outputs": [
    {
     "data": {
      "text/plain": [
       "0"
      ]
     },
     "execution_count": 78,
     "metadata": {},
     "output_type": "execute_result"
    }
   ],
   "source": [
    "doc.count(6)"
   ]
  },
  {
   "cell_type": "code",
   "execution_count": 140,
   "metadata": {
    "collapsed": false
   },
   "outputs": [
    {
     "name": "stdout",
     "output_type": "stream",
     "text": [
      "TERMS:\n",
      "\n",
      "776995\n",
      "776996\n",
      "776997\n",
      "776998\n",
      "776999\n",
      "5425\n",
      "214139\n",
      "368955\n",
      "776980\n",
      "1303\n",
      "1701\n",
      "2219\n",
      "125188\n",
      "178453\n",
      "3323\n",
      "2836\n",
      "1701\n",
      "2219\n",
      "1702\n",
      "7851\n",
      "152965\n",
      "776992\n",
      "776983\n",
      "7025\n",
      "776984\n",
      "78726\n",
      "776980\n",
      "776985\n",
      "428\n",
      "6804\n",
      "4411\n",
      "2135\n",
      "776987\n",
      "3683\n",
      "776989\n",
      "1860\n",
      "776990\n",
      "776991\n",
      "428\n",
      "6997\n",
      "282597\n",
      "497870\n",
      "1734\n",
      "8040\n",
      "388387\n",
      "13835\n",
      "1022\n",
      "1338\n",
      "4982\n",
      "2667\n",
      "777000\n",
      "777001\n",
      "777002\n",
      "777003\n",
      "777004\n",
      "777002\n",
      "777005\n",
      "777006\n",
      "777007\n",
      "777008\n",
      "777009\n",
      "777010\n",
      "777011\n",
      "777012\n",
      "777013\n",
      "777014\n",
      "777015\n",
      "777016\n",
      "777017\n",
      "777018\n",
      "777019\n",
      "777020\n",
      "777021\n",
      "777022\n",
      "777023\n",
      "777024\n",
      "777025\n",
      "777026\n",
      "777027\n",
      "777028\n",
      "777029\n",
      "777030\n",
      "777031\n",
      "777032\n"
     ]
    }
   ],
   "source": [
    "terms = doc.to_terms_list()\n",
    "\n",
    "print(\"TERMS:\")\n",
    "print(\"\")\n",
    "for en in terms:\n",
    "    print (en)"
   ]
  },
  {
   "cell_type": "code",
   "execution_count": 141,
   "metadata": {
    "collapsed": false
   },
   "outputs": [
    {
     "data": {
      "text/plain": [
       "{u'-PRON-': 2,\n",
       " u'anshoo': 1,\n",
       " u'anshoomehracom': 1,\n",
       " u'anshoomehragmailcom': 1,\n",
       " u'apparent': 1,\n",
       " u'baryon': 1,\n",
       " u'bill': 1,\n",
       " u'boson': 1,\n",
       " u'charge': 1,\n",
       " u'clinton': 1,\n",
       " u'colortriplet': 1,\n",
       " u'contact': 1,\n",
       " u'donald': 1,\n",
       " u'electric': 1,\n",
       " u'family': 1,\n",
       " u'fractional': 1,\n",
       " u'fundamental': 1,\n",
       " u'gates': 1,\n",
       " u'hillary': 1,\n",
       " u'hypothetical': 1,\n",
       " u'innovation': 1,\n",
       " u'inspire': 1,\n",
       " u'interaction': 1,\n",
       " u'lane': 1,\n",
       " u'lepton': 2,\n",
       " u'leptoquark': 1,\n",
       " u'lqs': 1,\n",
       " u'mediate': 1,\n",
       " u'model': 2,\n",
       " u'number': 2,\n",
       " u'phone': 1,\n",
       " u'president': 1,\n",
       " u'quark': 1,\n",
       " u'relationship': 1,\n",
       " u'run': 1,\n",
       " u'sm': 1,\n",
       " u'standard': 2,\n",
       " u'suggestive': 1,\n",
       " u'symmetry': 1,\n",
       " u'theory': 1,\n",
       " u'trump': 1,\n",
       " u'usd002': 1}"
      ]
     },
     "execution_count": 141,
     "metadata": {},
     "output_type": "execute_result"
    }
   ],
   "source": [
    "doc.to_bag_of_words(normalize=u'lemma', lemmatize=None,\\\n",
    "                lowercase=None, weighting=u'count', as_strings=True)"
   ]
  },
  {
   "cell_type": "markdown",
   "metadata": {},
   "source": [
    "##### Unsupervised Extraction\n",
    "\n",
    "Functions for unsupervised automatic key term extraction, both specific algorithms (SGRank, TextRank, SingleRank) and a generalization of semantic network-based methods."
   ]
  },
  {
   "cell_type": "code",
   "execution_count": 142,
   "metadata": {
    "collapsed": false
   },
   "outputs": [
    {
     "data": {
      "text/plain": [
       "[]"
      ]
     },
     "execution_count": 142,
     "metadata": {},
     "output_type": "execute_result"
    }
   ],
   "source": [
    "from sets import Set\n",
    "\n",
    "textacy.keyterms.aggregate_term_variants(Set(terms), acro_defs=None,\\\n",
    "                                         fuzzy_dedupe=True)\n",
    "\n"
   ]
  },
  {
   "cell_type": "code",
   "execution_count": 89,
   "metadata": {
    "collapsed": false
   },
   "outputs": [
    {
     "data": {
      "text/plain": [
       "[(u'lepton', 0.04544398790838869),\n",
       " (u'number', 0.04535802339368283),\n",
       " (u'model', 0.03475361494833767),\n",
       " (u'standard', 0.03424082368529908),\n",
       " (u'hillary', 0.03125803385551467),\n",
       " (u'president', 0.029333122575784833),\n",
       " (u'symmetry', 0.029090350732276615),\n",
       " (u'trump', 0.028220017798038996),\n",
       " (u'donald', 0.027530034979681154),\n",
       " (u'gates', 0.02701552894730882)]"
      ]
     },
     "execution_count": 89,
     "metadata": {},
     "output_type": "execute_result"
    }
   ],
   "source": [
    "## Extract key terms from a document by ranking nodes\n",
    "#in a semantic network of terms, connected by edges\n",
    "#and weights specified by parameters.\n",
    "\n",
    "textacy.keyterms.key_terms_from_semantic_network(doc,\\\n",
    "            normalize=u'lemma', window_width=2, edge_weighting=u'binary',\\\n",
    "            ranking_algo=u'pagerank', join_key_words=False,\\\n",
    "            n_keyterms=10)\n"
   ]
  },
  {
   "cell_type": "code",
   "execution_count": 149,
   "metadata": {
    "collapsed": false
   },
   "outputs": [
    {
     "name": "stdout",
     "output_type": "stream",
     "text": [
      "Sents:\n",
      "\n",
      "\n",
      "    The apparent symmetry between the quark and lepton families of\n",
      "    the Standard Model (SM) are, at the very least, suggestive of\n",
      "    a more fundamental relationship between them.\n",
      "In some Beyond the\n",
      "    Standard Model theories, such interactions are mediated by\n",
      "    leptoquarks (LQs): hypothetical color-triplet bosons with both\n",
      "    lepton and baryon number and fractional electric charge.\n",
      "My $.002.\n",
      "    \n",
      "Contact: Anshoo, 900-300-2000, anshoomehra@gmail.com,\n",
      "    anshoomehra.com, 222 Innovation Lane.\n",
      "Inspired by Bill Gates.\n",
      "    \n",
      "Donald Trump is running for president.\n",
      "Hillary Clinton is, too.\n"
     ]
    },
    {
     "data": {
      "text/plain": [
       "7"
      ]
     },
     "execution_count": 149,
     "metadata": {},
     "output_type": "execute_result"
    }
   ],
   "source": [
    "content_2 = unicode('''\n",
    "...     The apparent symmetry between the quark and lepton families of\n",
    "...     the Standard Model (SM) are, at the very least, suggestive of\n",
    "...     a more fundamental relationship between them. In some Beyond the\n",
    "...     Standard Model theories, such interactions are mediated by\n",
    "...     leptoquarks (LQs): hypothetical color-triplet bosons with both\n",
    "...     lepton and baryon number and fractional electric charge. My $.002.\n",
    "...     Contact: Anshoo, 900-300-2000, anshoomehra@gmail.com,\n",
    "...     anshoomehra.com, 222 Innovation Lane. Inspired by Bill Gates.\n",
    "...     Donald Trump is running for president. Hillary Clinton is, too.''')\n",
    "\n",
    "doc2 = textacy.Doc(content_2)\n",
    "\n",
    "sents = doc2.sents\n",
    "\n",
    "sent_list = []\n",
    "print(\"Sents:\")\n",
    "print(\"\")\n",
    "for en in sents:\n",
    "    print (en)\n",
    "    sent_list.append(en)\n",
    "\n",
    "len(sent_list)"
   ]
  },
  {
   "cell_type": "code",
   "execution_count": 150,
   "metadata": {
    "collapsed": false
   },
   "outputs": [
    {
     "data": {
      "text/plain": [
       "<networkx.classes.graph.Graph at 0x11a6dabd0>"
      ]
     },
     "execution_count": 150,
     "metadata": {},
     "output_type": "execute_result"
    }
   ],
   "source": [
    "nw_graph = textacy.network.sents_to_semantic_network(sent_list, \\\n",
    "                    normalize='lower', edge_weighting='jaccard')\n",
    "\n",
    "nw_graph"
   ]
  },
  {
   "cell_type": "code",
   "execution_count": 154,
   "metadata": {
    "collapsed": false
   },
   "outputs": [
    {
     "name": "stdout",
     "output_type": "stream",
     "text": [
      "Sents:\n",
      "\n",
      "set([0, 1, 2, 3, 4, 5, 6])\n",
      "[6, 6, 6, 6, 6, 6, 6]\n"
     ]
    },
    {
     "data": {
      "image/png": "[encoded data removed]",
      "text/plain": [
       "<matplotlib.figure.Figure at 0x11dae4690>"
      ]
     },
     "metadata": {},
     "output_type": "display_data"
    }
   ],
   "source": [
    "import matplotlib.pyplot as plt\n",
    "import networkx as nx\n",
    "\n",
    "#Test if Graph looks ok...\n",
    "dd = nx.connected_components(nw_graph)\n",
    "\n",
    "print(\"Sents:\")\n",
    "print(\"\")\n",
    "for en in dd:\n",
    "    print (en)\n",
    "    \n",
    "print (sorted(nx.degree(nw_graph).values()))\n",
    "\n",
    "#Print Graph\n",
    "nx.draw(nw_graph)\n",
    "plt.show()"
   ]
  },
  {
   "cell_type": "code",
   "execution_count": 165,
   "metadata": {
    "collapsed": false,
    "scrolled": true
   },
   "outputs": [
    {
     "data": {
      "text/plain": [
       "{0: 0.9999999999999994,\n",
       " 1: 0.4999999999999998,\n",
       " 2: 0.4999999999999998,\n",
       " 3: 0.4999999999999998,\n",
       " 4: 0.4999999999999998,\n",
       " 5: 0.4999999999999998}"
      ]
     },
     "execution_count": 165,
     "metadata": {},
     "output_type": "execute_result"
    }
   ],
   "source": [
    "# Rank nodes in a network using the [BestCoverage] algorithm\n",
    "# that attempts to balance between node centrality and diversity.\n",
    "textacy.keyterms.rank_nodes_by_bestcoverage(nw_graph, 6, c=1, alpha=0.5)"
   ]
  },
  {
   "cell_type": "code",
   "execution_count": 168,
   "metadata": {
    "collapsed": false
   },
   "outputs": [
    {
     "data": {
      "text/plain": [
       "{0: 0.1534940762062384,\n",
       " 1: 0.13222020950804736,\n",
       " 2: 0.14285714285714288,\n",
       " 3: 0.14285714285714288,\n",
       " 4: 0.14285714285714288,\n",
       " 5: 0.14285714285714285,\n",
       " 6: 0.14285714285714285}"
      ]
     },
     "execution_count": 168,
     "metadata": {},
     "output_type": "execute_result"
    }
   ],
   "source": [
    "# Rank nodes in a network using the [DivRank] algorithm that attempts\n",
    "# to balance between node centrality and diversity.\n",
    "\n",
    "textacy.keyterms.rank_nodes_by_divrank(nw_graph, r=None,\\\n",
    "                                       lambda_=0.5, alpha=0.2)"
   ]
  },
  {
   "cell_type": "code",
   "execution_count": 173,
   "metadata": {
    "collapsed": false
   },
   "outputs": [
    {
     "data": {
      "text/plain": [
       "[(u'fractional electric charge', 0.22463160103039204),\n",
       " (u'standard model theory', 0.1520121683911057),\n",
       " (u'standard model', 0.09256069464123624),\n",
       " (u'fundamental relationship', 0.05502269008339439),\n",
       " (u'lepton family', 0.04828006166769821),\n",
       " (u'baryon number', 0.04611442846156825),\n",
       " (u'triplet boson', 0.045123514726754445),\n",
       " (u'hypothetical color', 0.038775342923960315),\n",
       " (u'apparent symmetry', 0.038575144078686424),\n",
       " (u'bill gates', 0.02539606015740303)]"
      ]
     },
     "execution_count": 173,
     "metadata": {},
     "output_type": "execute_result"
    }
   ],
   "source": [
    "#Extract key terms from a document using the [SGRank] algorithm.\n",
    "\n",
    "textacy.keyterms.sgrank(doc2, ngrams=(1, 2, 3, 4, 5, 6),\\\n",
    "                    normalize=u'lemma', window_width=1500,\\\n",
    "                        n_keyterms=10, idf=None)"
   ]
  },
  {
   "cell_type": "code",
   "execution_count": 175,
   "metadata": {
    "collapsed": false
   },
   "outputs": [
    {
     "data": {
      "text/plain": [
       "[(u'standard model', 0.09869878110170502),\n",
       " (u'electric charge', 0.06894207644106973),\n",
       " (u'lepton', 0.04439360114161709),\n",
       " (u'anshoo', 0.03702712907248643),\n",
       " (u'contact', 0.03576316785228271),\n",
       " (u'innovation', 0.034130962515218896)]"
      ]
     },
     "execution_count": 175,
     "metadata": {},
     "output_type": "execute_result"
    }
   ],
   "source": [
    "#Convenience function for calling key_terms_from_semantic_network with the parameter values used in the [SingleRank]\n",
    "#algorithm.\n",
    "textacy.keyterms.singlerank(doc2, normalize=u'lemma', n_keyterms=10)"
   ]
  },
  {
   "cell_type": "code",
   "execution_count": 176,
   "metadata": {
    "collapsed": false
   },
   "outputs": [
    {
     "data": {
      "text/plain": [
       "[(u'lepton', 0.049182227211322864),\n",
       " (u'model', 0.036866028344254176),\n",
       " (u'standard', 0.03639454263930566),\n",
       " (u'hillary', 0.033100449504295484),\n",
       " (u'president', 0.031091424713234072),\n",
       " (u'symmetry', 0.03097828228979414),\n",
       " (u'trump', 0.02997367121785436),\n",
       " (u'donald', 0.02934910132576511),\n",
       " (u'gates', 0.029000489391767425),\n",
       " (u'bill', 0.02880207245512844)]"
      ]
     },
     "execution_count": 176,
     "metadata": {},
     "output_type": "execute_result"
    }
   ],
   "source": [
    "# Convenience function for calling key_terms_from_semantic_network with the parameter values used in the [TextRank]\n",
    "#algorithm\n",
    "\n",
    "textacy.keyterms.textrank(doc2, normalize=u'lemma', n_keyterms=10)"
   ]
  },
  {
   "cell_type": "markdown",
   "metadata": {},
   "source": [
    "## Training "
   ]
  },
  {
   "cell_type": "markdown",
   "metadata": {},
   "source": [
    "##### Prepare a vectorized corpus (i.e. document-term matrix) and corresponding vocabulary (i.e. mapping of term strings to column indices in the matrix). "
   ]
  },
  {
   "cell_type": "code",
   "execution_count": 195,
   "metadata": {
    "collapsed": false
   },
   "outputs": [
    {
     "data": {
      "text/plain": [
       "{u'apparent symmetry between the quark': 1,\n",
       " u'baryon number and fractional electric': 1,\n",
       " u'bill gates': 1,\n",
       " u'donald trump': 1,\n",
       " u'fractional electric charge -PRON- usd002': 1,\n",
       " u'hillary clinton': 1,\n",
       " u'innovation lane inspire by bill': 1,\n",
       " u'lane inspire by bill gates': 1,\n",
       " u'leptoquark lqs hypothetical colortriplet boson': 1,\n",
       " u'number and fractional electric charge': 1,\n",
       " u'run for president hillary clinton': 1,\n",
       " u'standard model sm': 1,\n",
       " u'standard model theory such interaction': 1,\n",
       " u'theory such interaction be mediate': 1,\n",
       " u'trump be run for president': 1,\n",
       " u'usd002 \\n  contact anshoo': 1}"
      ]
     },
     "execution_count": 195,
     "metadata": {},
     "output_type": "execute_result"
    }
   ],
   "source": [
    "terms"
   ]
  },
  {
   "cell_type": "code",
   "execution_count": 196,
   "metadata": {
    "collapsed": false
   },
   "outputs": [
    {
     "data": {
      "text/plain": [
       "<16x18 sparse matrix of type '<type 'numpy.float64'>'\n",
       "\twith 187 stored elements in Compressed Sparse Row format>"
      ]
     },
     "execution_count": 196,
     "metadata": {},
     "output_type": "execute_result"
    }
   ],
   "source": [
    "vectorizer = textacy.vsm.Vectorizer(\n",
    "...     weighting='tfidf', normalize=True, smooth_idf=True,\n",
    "...     min_df=3, max_df=0.95, max_n_terms=100000)\n",
    "\n",
    "doc_term_matrix = vectorizer.fit_transform(terms)\n",
    "\n",
    "doc_term_matrix"
   ]
  },
  {
   "cell_type": "markdown",
   "metadata": {},
   "source": [
    "##### Initialize and train a topic model"
   ]
  },
  {
   "cell_type": "code",
   "execution_count": 197,
   "metadata": {
    "collapsed": false
   },
   "outputs": [
    {
     "data": {
      "text/plain": [
       "TopicModel(n_topics=20, model=NMF)"
      ]
     },
     "execution_count": 197,
     "metadata": {},
     "output_type": "execute_result"
    }
   ],
   "source": [
    "#Initialize and train a topic model\n",
    "\n",
    "model = textacy.tm.TopicModel('nmf', n_topics=20)\n",
    "model.fit(doc_term_matrix)\n",
    "model"
   ]
  },
  {
   "cell_type": "markdown",
   "metadata": {},
   "source": [
    "##### Transform the corpus and interpret our model:"
   ]
  },
  {
   "cell_type": "code",
   "execution_count": 198,
   "metadata": {
    "collapsed": false
   },
   "outputs": [
    {
     "name": "stdout",
     "output_type": "stream",
     "text": [
      "('topic', 0, ':', u'e   r   m   b   p   a   y   n   i   s')\n",
      "('topic', 1, ':', u'r   p   u   d   f   n   o   m   g   s')\n"
     ]
    }
   ],
   "source": [
    "doc_topic_matrix = model.transform(doc_term_matrix)\n",
    "\n",
    "for topic_idx, top_terms in \\\n",
    "            model.top_topic_terms(vectorizer.id_to_term, topics=[0,1]):\n",
    "        print('topic', topic_idx, ':', '   '.join(top_terms))\n"
   ]
  },
  {
   "cell_type": "code",
   "execution_count": 206,
   "metadata": {
    "collapsed": false
   },
   "outputs": [
    {
     "name": "stdout",
     "output_type": "stream",
     "text": [
      "(0, 0.19045215654086695)\n",
      "(1, 0.0936390255018376)\n",
      "(2, 0.10417388352484976)\n",
      "(3, 0.10441108151356288)\n",
      "(4, 0.0)\n",
      "(5, 0.0)\n",
      "(6, 0.063159292185127544)\n",
      "(7, 0.0)\n",
      "(8, 0.18561038500700053)\n",
      "(9, 0.0)\n",
      "(10, 0.0)\n",
      "(11, 0.10970505920478567)\n",
      "(12, 0.0)\n",
      "(13, 0.0)\n",
      "(14, 0.0)\n",
      "(15, 0.0)\n",
      "(16, 0.0)\n",
      "(17, 0.14884911652196903)\n",
      "(18, 0.0)\n",
      "(19, 0.0)\n"
     ]
    }
   ],
   "source": [
    "for i, val in enumerate(model.topic_weights(doc_topic_matrix)):\n",
    "...     print(i, val)"
   ]
  },
  {
   "cell_type": "code",
   "execution_count": 208,
   "metadata": {
    "collapsed": false
   },
   "outputs": [
    {
     "data": {
      "image/png": "[encoded data removed]",
      "text/plain": [
       "<matplotlib.figure.Figure at 0x10d5abc50>"
      ]
     },
     "metadata": {},
     "output_type": "display_data"
    },
    {
     "data": {
      "image/png": "[encoded data removed]",
      "text/plain": [
       "<matplotlib.figure.Figure at 0x1231d2ad0>"
      ]
     },
     "metadata": {},
     "output_type": "display_data"
    }
   ],
   "source": [
    "model.termite_plot(doc_term_matrix, vectorizer.id_to_term,\n",
    "...                    topics=-1,  n_terms=25, sort_terms_by='seriation')\n",
    "\n",
    "plt.show()"
   ]
  },
  {
   "cell_type": "code",
   "execution_count": 211,
   "metadata": {
    "collapsed": false
   },
   "outputs": [
    {
     "name": "stdout",
     "output_type": "stream",
     "text": [
      "(0, (0, (0, 8, 2)))\n",
      "(1, (1, (0, 1, 3)))\n",
      "(2, (2, (2, 8, 3)))\n",
      "(3, (3, (8, 11, 19)))\n",
      "(4, (4, (3, 0, 2)))\n",
      "(5, (5, (2, 8, 19)))\n",
      "(6, (6, (17, 8, 6)))\n",
      "(7, (7, (8, 0, 11)))\n",
      "(8, (8, (3, 1, 6)))\n",
      "(9, (9, (17, 1, 8)))\n",
      "(10, (10, (1, 0, 8)))\n",
      "(11, (11, (8, 17, 0)))\n",
      "(12, (12, (11, 17, 0)))\n",
      "(13, (13, (6, 0, 8)))\n",
      "(14, (14, (11, 0, 17)))\n",
      "(15, (15, (17, 0, 11)))\n"
     ]
    }
   ],
   "source": [
    "for i, val in enumerate(model.top_doc_topics(doc_topic_matrix,\\\n",
    "                                             docs=-1, top_n=3,\\\n",
    "                                             weights=False)):\n",
    "    print(i, val)"
   ]
  },
  {
   "cell_type": "code",
   "execution_count": 215,
   "metadata": {
    "collapsed": false
   },
   "outputs": [
    {
     "name": "stdout",
     "output_type": "stream",
     "text": [
      "(0, (0, (1, 0, 10, 14, 15, 2, 13, 11, 4, 7)))\n",
      "(1, (1, (10, 8, 9, 1, 11, 15, 14, 13, 12, 7)))\n",
      "(2, (2, (5, 2, 0, 13, 4, 15, 9, 14, 12, 11)))\n",
      "(3, (3, (4, 8, 2, 11, 7, 1, 15, 14, 13, 12)))\n",
      "(4, (4, (15, 14, 13, 12, 11, 10, 9, 8, 7, 6)))\n",
      "(5, (5, (15, 14, 13, 12, 11, 10, 9, 8, 7, 6)))\n",
      "(6, (6, (13, 8, 6, 9, 15, 14, 12, 11, 10, 7)))\n",
      "(7, (7, (15, 14, 13, 12, 11, 10, 9, 8, 7, 6)))\n",
      "(8, (8, (3, 7, 11, 2, 0, 9, 6, 13, 5, 10)))\n",
      "(9, (9, (15, 14, 13, 12, 11, 10, 9, 8, 7, 6)))\n",
      "(10, (10, (15, 14, 13, 12, 11, 10, 9, 8, 7, 6)))\n",
      "(11, (11, (12, 14, 3, 7, 13, 15, 4, 11, 10, 9)))\n",
      "(12, (12, (15, 14, 13, 12, 11, 10, 9, 8, 7, 6)))\n",
      "(13, (13, (15, 14, 13, 12, 11, 10, 9, 8, 7, 6)))\n",
      "(14, (14, (15, 14, 13, 12, 11, 10, 9, 8, 7, 6)))\n",
      "(15, (15, (15, 14, 13, 12, 11, 10, 9, 8, 7, 6)))\n",
      "(16, (16, (15, 14, 13, 12, 11, 10, 9, 8, 7, 6)))\n",
      "(17, (17, (15, 6, 9, 14, 11, 2, 13, 0, 8, 12)))\n",
      "(18, (18, (15, 14, 13, 12, 11, 10, 9, 8, 7, 6)))\n",
      "(19, (19, (15, 14, 13, 12, 11, 10, 9, 8, 7, 6)))\n"
     ]
    }
   ],
   "source": [
    "for i, val in enumerate(model.top_topic_docs(doc_topic_matrix,\\\n",
    "                                       topics=-1, top_n=10,\\\n",
    "                                       weights=False)):\n",
    "    print(i, val)"
   ]
  },
  {
   "cell_type": "code",
   "execution_count": 218,
   "metadata": {
    "collapsed": false
   },
   "outputs": [
    {
     "name": "stdout",
     "output_type": "stream",
     "text": [
      "(0, 0.19045215654086695)\n",
      "(1, 0.0936390255018376)\n",
      "(2, 0.10417388352484976)\n",
      "(3, 0.10441108151356288)\n",
      "(4, 0.0)\n",
      "(5, 0.0)\n",
      "(6, 0.063159292185127544)\n",
      "(7, 0.0)\n",
      "(8, 0.18561038500700053)\n",
      "(9, 0.0)\n",
      "(10, 0.0)\n",
      "(11, 0.10970505920478567)\n",
      "(12, 0.0)\n",
      "(13, 0.0)\n",
      "(14, 0.0)\n",
      "(15, 0.0)\n",
      "(16, 0.0)\n",
      "(17, 0.14884911652196903)\n",
      "(18, 0.0)\n",
      "(19, 0.0)\n"
     ]
    }
   ],
   "source": [
    "for i, val in enumerate(model.topic_weights(doc_topic_matrix)):\n",
    "    print(i, val)"
   ]
  },
  {
   "cell_type": "markdown",
   "metadata": {},
   "source": [
    "## Trying Native Datasets"
   ]
  },
  {
   "cell_type": "markdown",
   "metadata": {},
   "source": [
    "##### Efficiently stream documents from disk and into a processed corpus"
   ]
  },
  {
   "cell_type": "code",
   "execution_count": 238,
   "metadata": {
    "collapsed": false
   },
   "outputs": [
    {
     "data": {
      "text/plain": [
       "Corpus(1241 docs; 858063 tokens)"
      ]
     },
     "execution_count": 238,
     "metadata": {},
     "output_type": "execute_result"
    }
   ],
   "source": [
    "spacy.load('en')\n",
    "cw = textacy.datasets.CapitolWords()\n",
    "#cw.download()\n",
    "records = cw.records(speaker_name={'Hillary Clinton', 'Barack Obama'})\n",
    "\n",
    "text_stream, metadata_stream = textacy.fileio.split_record_fields(records,\\\n",
    "                                                                  'text')\n",
    "corpus = textacy.Corpus(u'en', texts=text_stream,\\\n",
    "                        metadatas=metadata_stream)\n",
    "\n",
    "corpus"
   ]
  },
  {
   "cell_type": "code",
   "execution_count": 239,
   "metadata": {
    "collapsed": false
   },
   "outputs": [
    {
     "data": {
      "text/plain": [
       "{'data_dir': u'/Users/anmehra/Desktop/Anconda_Py2.7/anaconda/lib/python2.7/site-packages/textacy/data/capitol_words',\n",
       " 'description': u'Collection of ~11k speeches in the Congressional Record given by notable U.S. politicians between Jan 1996 and Jun 2016.',\n",
       " 'name': u'capitol_words',\n",
       " 'site_url': u'http://sunlightlabs.github.io/Capitol-Words/'}"
      ]
     },
     "execution_count": 239,
     "metadata": {},
     "output_type": "execute_result"
    }
   ],
   "source": [
    "cw.info"
   ]
  },
  {
   "cell_type": "markdown",
   "metadata": {},
   "source": [
    "##### Represent corpus as a document-term matrix, with flexible weighting and filtering"
   ]
  },
  {
   "cell_type": "code",
   "execution_count": 242,
   "metadata": {
    "collapsed": false
   },
   "outputs": [
    {
     "name": "stdout",
     "output_type": "stream",
     "text": [
      "<1241x11705 sparse matrix of type '<type 'numpy.float64'>'\n",
      "\twith 215184 stored elements in Compressed Sparse Row format>\n"
     ]
    }
   ],
   "source": [
    "vectorizer = textacy.Vectorizer(\\\n",
    "    weighting='tfidf', normalize=True, smooth_idf=True,\\\n",
    "    min_df=2, max_df=0.95)\n",
    "\n",
    "doc_term_matrix = vectorizer.fit_transform(\\\n",
    "     (doc.to_terms_list(ngrams=1, named_entities=True, as_strings=True)\\\n",
    "      for doc in corpus))\n",
    "\n",
    "print(repr(doc_term_matrix))"
   ]
  },
  {
   "cell_type": "markdown",
   "metadata": {},
   "source": [
    "##### Train and interpret a topic model"
   ]
  },
  {
   "cell_type": "code",
   "execution_count": 275,
   "metadata": {
    "collapsed": false
   },
   "outputs": [
    {
     "data": {
      "text/plain": [
       "TopicModel(n_topics=10, model=NMF)"
      ]
     },
     "execution_count": 275,
     "metadata": {},
     "output_type": "execute_result"
    }
   ],
   "source": [
    "model = textacy.TopicModel('nmf', n_topics=10)\n",
    "model.fit(doc_term_matrix)\n",
    "model"
   ]
  },
  {
   "cell_type": "code",
   "execution_count": 276,
   "metadata": {
    "collapsed": false
   },
   "outputs": [
    {
     "data": {
      "text/plain": [
       "(1241, 10)"
      ]
     },
     "execution_count": 276,
     "metadata": {},
     "output_type": "execute_result"
    }
   ],
   "source": [
    "doc_topic_matrix = model.transform(doc_term_matrix)\n",
    "doc_topic_matrix.shape"
   ]
  },
  {
   "cell_type": "code",
   "execution_count": 247,
   "metadata": {
    "collapsed": false
   },
   "outputs": [
    {
     "name": "stdout",
     "output_type": "stream",
     "text": [
      "('topic', 0, ':', u\"new   people   's   york   work   bill   security   go   senator   year\")\n",
      "('topic', 1, ':', u'rescind   quorum   unanimous   consent   order   ask   president   mr.   madam president   madam')\n",
      "('topic', 2, ':', u'dispense   reading   unanimous   consent   amendment   ask   president   mr.   madam president   madam')\n",
      "('topic', 3, ':', u'student   school   college   education   teacher   high   loan   program   graduate   increase')\n",
      "('topic', 4, ':', u'desiring   chamber   vote   senators   rollcall   voter   motion   election   voting   reevaluate')\n",
      "('topic', 5, ':', u'amendment   pend   aside   set   ask   unanimous   consent   mr.   president   desk')\n",
      "('topic', 6, ':', u'health   care   patient   mental   quality   medical   hospital   information   system   coverage')\n",
      "('topic', 7, ':', u'iraq   war   troop   iraqi   iraqis   military   policy   escalation   redeployment   u.s.')\n",
      "('topic', 8, ':', u'child   family   parent   school   tax   education   care   lead   foster   program')\n",
      "('topic', 9, ':', u'senator   virginia   yield   west virginia   west   question   thank   massachusetts   objection   time')\n"
     ]
    }
   ],
   "source": [
    "for topic_idx, top_terms in\\\n",
    "                model.top_topic_terms(vectorizer.id_to_term, top_n=10):\n",
    "    print('topic', topic_idx, ':', '   '.join(top_terms))"
   ]
  },
  {
   "cell_type": "code",
   "execution_count": 279,
   "metadata": {
    "collapsed": false
   },
   "outputs": [
    {
     "name": "stdout",
     "output_type": "stream",
     "text": [
      "0\n",
      "CLASS ACTION FAIRNESS ACT OF 2004\n",
      "Senate\n",
      "1\n",
      "AGRICULTURAL, CONSERVATION, AND RURAL ENHANCEMENT ACT OF 2001--MOTION TO PROCEED\n",
      "COMPREHENSIVE IMMIGRATION REFORM ACT OF 2006\n"
     ]
    }
   ],
   "source": [
    "for topic_idx, top_docs in \\\n",
    "    model.top_topic_docs(doc_topic_matrix, topics=[0,1], top_n=2):\n",
    "        print(topic_idx)\n",
    "        for j in top_docs:\n",
    "            print(corpus[j].metadata['title'])"
   ]
  },
  {
   "cell_type": "code",
   "execution_count": 280,
   "metadata": {
    "collapsed": false
   },
   "outputs": [
    {
     "name": "stdout",
     "output_type": "stream",
     "text": [
      "(u'MORNING BUSINESS', u':', (9, 0))\n",
      "(u'HEALTH INSURANCE', u':', (6, 0))\n",
      "(u'MEASURE PLACED ON THE CALENDAR--S. 328', u':', (0, 8))\n",
      "(u'DISAPPROVAL OF DEPARTMENT OF LABOR ERGONOMICS RULE--Continued', u':', (0, 6))\n",
      "(u'MORNING BUSINESS', u':', (0, 9))\n"
     ]
    }
   ],
   "source": [
    "for doc_idx, topics in \\\n",
    "    model.top_doc_topics(doc_topic_matrix, docs=range(5), top_n=2):\n",
    "        print(corpus[doc_idx].metadata['title'], ':', topics)"
   ]
  },
  {
   "cell_type": "code",
   "execution_count": 281,
   "metadata": {
    "collapsed": false
   },
   "outputs": [
    {
     "name": "stdout",
     "output_type": "stream",
     "text": [
      "(0, 0.37760859241259642)\n",
      "(1, 0.08450229151114709)\n",
      "(2, 0.066734178933453528)\n",
      "(3, 0.07661981781909219)\n",
      "(4, 0.036073751185142215)\n",
      "(5, 0.075546136800491034)\n",
      "(6, 0.094163926476682619)\n",
      "(7, 0.055542968364112592)\n",
      "(8, 0.078675331520788719)\n",
      "(9, 0.054533004976493632)\n"
     ]
    }
   ],
   "source": [
    "for i, val in enumerate(model.topic_weights(doc_topic_matrix)):\n",
    "...     print(i, val)"
   ]
  },
  {
   "cell_type": "code",
   "execution_count": 283,
   "metadata": {
    "collapsed": false
   },
   "outputs": [
    {
     "data": {
      "image/png": "[encoded data removed]",
      "text/plain": [
       "<matplotlib.figure.Figure at 0x1231e0150>"
      ]
     },
     "metadata": {},
     "output_type": "display_data"
    },
    {
     "data": {
      "image/png": "[encoded data removed]",
      "text/plain": [
       "<matplotlib.figure.Figure at 0x1519b7450>"
      ]
     },
     "metadata": {},
     "output_type": "display_data"
    }
   ],
   "source": [
    "#Visulaize Model\n",
    "model.termite_plot(doc_term_matrix, \\\n",
    "                   vectorizer.id_to_term,\\\n",
    "                   topics=-1,  n_terms=25,\\\n",
    "                   sort_terms_by='seriation')\n",
    "\n",
    "plt.show()"
   ]
  },
  {
   "cell_type": "markdown",
   "metadata": {},
   "source": [
    "##### Basic indexing as well as flexible selection of documents in a corpus"
   ]
  },
  {
   "cell_type": "code",
   "execution_count": 248,
   "metadata": {
    "collapsed": false
   },
   "outputs": [
    {
     "data": {
      "text/plain": [
       "411"
      ]
     },
     "execution_count": 248,
     "metadata": {},
     "output_type": "execute_result"
    }
   ],
   "source": [
    "obama_docs = list(corpus.get(\n",
    "...     lambda doc: doc.metadata['speaker_name'] == 'Barack Obama'))\n",
    "len(obama_docs)"
   ]
  },
  {
   "cell_type": "code",
   "execution_count": 249,
   "metadata": {
    "collapsed": false
   },
   "outputs": [
    {
     "data": {
      "text/plain": [
       "Doc(2999 tokens; \"In the Federalist Papers, we often hear the ref...\")"
      ]
     },
     "execution_count": 249,
     "metadata": {},
     "output_type": "execute_result"
    }
   ],
   "source": [
    "doc = corpus[-1]\n",
    "doc"
   ]
  },
  {
   "cell_type": "markdown",
   "metadata": {},
   "source": [
    "##### Preprocess plain text, or highlight particular terms in it"
   ]
  },
  {
   "cell_type": "code",
   "execution_count": 253,
   "metadata": {
    "collapsed": false
   },
   "outputs": [
    {
     "data": {
      "text/plain": [
       "u'in the federalist papers we often hear the reference to the senates ro'"
      ]
     },
     "execution_count": 253,
     "metadata": {},
     "output_type": "execute_result"
    }
   ],
   "source": [
    "textacy.preprocess_text(doc.text, lowercase=True, no_punct=True)[:70]"
   ]
  },
  {
   "cell_type": "code",
   "execution_count": 251,
   "metadata": {
    "collapsed": false
   },
   "outputs": [
    {
     "name": "stdout",
     "output_type": "stream",
     "text": [
      "g on this tiny piece of Senate and  America n history. Some 10 years ago, I ask\n",
      "o do the hard work in New York and  America , who get up every day and do the v\n",
      "say: You know, you never can count  America  out. Whenever the chips are down, \n",
      " what we know will give our fellow  America ns a better shot at the kind of fut\n",
      "aith in this body and in my fellow  America ns. I remain an optimist, that Amer\n",
      "ricans. I remain an optimist, that  America 's best days are still ahead of us.\n"
     ]
    }
   ],
   "source": [
    "textacy.text_utils.keyword_in_context(doc.text, 'America', window_width=35)"
   ]
  },
  {
   "cell_type": "markdown",
   "metadata": {},
   "source": [
    "##### Extract various elements of interest from parsed documents:"
   ]
  },
  {
   "cell_type": "code",
   "execution_count": 255,
   "metadata": {
    "collapsed": false
   },
   "outputs": [
    {
     "data": {
      "text/plain": [
       "[Federalist Papers,\n",
       " Senate's,\n",
       " 's role,\n",
       " violent passions,\n",
       " pernicious resolutions,\n",
       " everlasting credit,\n",
       " find common,\n",
       " common ground,\n",
       " 8 years,\n",
       " tiny piece,\n",
       " American history,\n",
       " 10 years,\n",
       " years ago,\n",
       " New York,\n",
       " fellow New]"
      ]
     },
     "execution_count": 255,
     "metadata": {},
     "output_type": "execute_result"
    }
   ],
   "source": [
    "list(textacy.extract.ngrams(\n",
    "...     doc, 2, filter_stops=True, filter_punct=True, filter_nums=False))[:15]"
   ]
  },
  {
   "cell_type": "code",
   "execution_count": 256,
   "metadata": {
    "collapsed": false
   },
   "outputs": [
    {
     "data": {
      "text/plain": [
       "[fellow New Yorkers,\n",
       " World Trade Center,\n",
       " Senator from New,\n",
       " World Trade Center,\n",
       " Senator from New,\n",
       " lot of fun,\n",
       " fellow New Yorkers,\n",
       " lot of fun]"
      ]
     },
     "execution_count": 256,
     "metadata": {},
     "output_type": "execute_result"
    }
   ],
   "source": [
    "list(textacy.extract.ngrams(\n",
    "...     doc, 3, filter_stops=True, filter_punct=True, min_freq=2))"
   ]
  },
  {
   "cell_type": "code",
   "execution_count": 257,
   "metadata": {
    "collapsed": false
   },
   "outputs": [
    {
     "data": {
      "text/plain": [
       "[Federalist Papers,\n",
       " Senate,\n",
       " Senate,\n",
       " American,\n",
       " New York,\n",
       " New Yorkers,\n",
       " Senate,\n",
       " Barbara Mikulski,\n",
       " Senate,\n",
       " Pennsylvania Avenue]"
      ]
     },
     "execution_count": 257,
     "metadata": {},
     "output_type": "execute_result"
    }
   ],
   "source": [
    "list(textacy.extract.named_entities(\n",
    "...     doc, drop_determiners=True, exclude_types='numeric'))[:10]"
   ]
  },
  {
   "cell_type": "code",
   "execution_count": 259,
   "metadata": {
    "collapsed": false
   },
   "outputs": [
    {
     "data": {
      "text/plain": [
       "u'<DET>? <NUM>* (<ADJ> <PUNCT>? <CONJ>?)* (<NOUN>|<PROPN> <PART>?)+'"
      ]
     },
     "execution_count": 259,
     "metadata": {},
     "output_type": "execute_result"
    }
   ],
   "source": [
    "pattern = textacy.constants.POS_REGEX_PATTERNS['en']['NP']\n",
    "pattern"
   ]
  },
  {
   "cell_type": "code",
   "execution_count": 260,
   "metadata": {
    "collapsed": false
   },
   "outputs": [
    {
     "data": {
      "text/plain": [
       "[the Federalist Papers,\n",
       " the reference,\n",
       " the Senate's role,\n",
       " the consequences,\n",
       " violent passions,\n",
       " pernicious resolutions,\n",
       " the everlasting credit,\n",
       " wisdom,\n",
       " our Founders,\n",
       " an effort]"
      ]
     },
     "execution_count": 260,
     "metadata": {},
     "output_type": "execute_result"
    }
   ],
   "source": [
    "list(textacy.extract.pos_regex_matches(doc, pattern))[:10]"
   ]
  },
  {
   "cell_type": "code",
   "execution_count": 261,
   "metadata": {
    "collapsed": false
   },
   "outputs": [
    {
     "data": {
      "text/plain": [
       "[(I, was, on the other end of Pennsylvania Avenue),\n",
       " (I, was, , a very new Senator, and my city and my State had been devastated),\n",
       " (I, am, grateful to have had Senator Schumer as my partner and my ally),\n",
       " (I, am, very excited about what can happen in the next 4 years),\n",
       " (I, been, a New Yorker, but I know I always will be one)]"
      ]
     },
     "execution_count": 261,
     "metadata": {},
     "output_type": "execute_result"
    }
   ],
   "source": [
    "list(textacy.extract.semistructured_statements(doc, 'I', cue='be'))"
   ]
  },
  {
   "cell_type": "code",
   "execution_count": 262,
   "metadata": {
    "collapsed": false
   },
   "outputs": [
    {
     "data": {
      "text/plain": [
       "[(u'new', 0.009957815265295183),\n",
       " (u'senator', 0.007615084948342637),\n",
       " (u'york', 0.006687627201176628),\n",
       " (u'day', 0.0059390810226945985),\n",
       " (u'senate', 0.005864086581755352),\n",
       " (u'people', 0.005349019373294648),\n",
       " (u'state', 0.005149692036041417),\n",
       " (u'joshua', 0.004825471015027675),\n",
       " (u'year', 0.004365070791876961),\n",
       " (u'way', 0.004313784761107779)]"
      ]
     },
     "execution_count": 262,
     "metadata": {},
     "output_type": "execute_result"
    }
   ],
   "source": [
    "textacy.keyterms.textrank(doc, n_keyterms=10)"
   ]
  },
  {
   "cell_type": "markdown",
   "metadata": {},
   "source": [
    "##### Compute basic counts and readability statistics for a given text"
   ]
  },
  {
   "cell_type": "code",
   "execution_count": 264,
   "metadata": {
    "collapsed": false
   },
   "outputs": [
    {
     "data": {
      "text/plain": [
       "1107"
      ]
     },
     "execution_count": 264,
     "metadata": {},
     "output_type": "execute_result"
    }
   ],
   "source": [
    "ts = textacy.TextStats(doc)\n",
    "ts.n_unique_words"
   ]
  },
  {
   "cell_type": "code",
   "execution_count": 265,
   "metadata": {
    "collapsed": false
   },
   "outputs": [
    {
     "data": {
      "text/plain": [
       "{u'n_chars': 11498,\n",
       " u'n_long_words': 512,\n",
       " u'n_monosyllable_words': 1785,\n",
       " u'n_polysyllable_words': 222,\n",
       " u'n_sents': 99,\n",
       " u'n_syllables': 3525,\n",
       " u'n_unique_words': 1107,\n",
       " u'n_words': 2516}"
      ]
     },
     "execution_count": 265,
     "metadata": {},
     "output_type": "execute_result"
    }
   ],
   "source": [
    "ts.basic_counts"
   ]
  },
  {
   "cell_type": "code",
   "execution_count": 266,
   "metadata": {
    "collapsed": false
   },
   "outputs": [
    {
     "data": {
      "text/plain": [
       "10.853709110179697"
      ]
     },
     "execution_count": 266,
     "metadata": {},
     "output_type": "execute_result"
    }
   ],
   "source": [
    "ts.flesch_kincaid_grade_level"
   ]
  },
  {
   "cell_type": "code",
   "execution_count": 267,
   "metadata": {
    "collapsed": false
   },
   "outputs": [
    {
     "data": {
      "text/plain": [
       "{u'automated_readability_index': 12.801546064781363,\n",
       " u'coleman_liau_index': 9.905629258346586,\n",
       " u'flesch_kincaid_grade_level': 10.853709110179697,\n",
       " u'flesch_readability_ease': 62.51222198133965,\n",
       " u'gulpease_index': 55.10492845786963,\n",
       " u'gunning_fog_index': 13.69506833036245,\n",
       " u'lix': 45.76390294037353,\n",
       " u'smog_index': 11.683781121521076,\n",
       " u'wiener_sachtextformel': 5.401029023140788}"
      ]
     },
     "execution_count": 267,
     "metadata": {},
     "output_type": "execute_result"
    }
   ],
   "source": [
    "ts.readability_stats"
   ]
  },
  {
   "cell_type": "markdown",
   "metadata": {},
   "source": [
    "##### Count terms individually, and represent documents as a bag-of-terms with flexible weighting and inclusion criteria"
   ]
  },
  {
   "cell_type": "code",
   "execution_count": 270,
   "metadata": {
    "collapsed": false
   },
   "outputs": [
    {
     "data": {
      "text/plain": [
       "0"
      ]
     },
     "execution_count": 270,
     "metadata": {},
     "output_type": "execute_result"
    }
   ],
   "source": [
    "doc.count('America')"
   ]
  },
  {
   "cell_type": "code",
   "execution_count": 274,
   "metadata": {
    "collapsed": false
   },
   "outputs": [
    {
     "data": {
      "text/plain": [
       "[(u'new york', 18),\n",
       " (u'senate', 8),\n",
       " (u'first', 6),\n",
       " (u'state', 5),\n",
       " (u'9/11', 3),\n",
       " (u'chuck', 3),\n",
       " (u'look forward', 3),\n",
       " (u'one', 3),\n",
       " (u'new yorkers', 3),\n",
       " (u'family member', 2)]"
      ]
     },
     "execution_count": 274,
     "metadata": {},
     "output_type": "execute_result"
    }
   ],
   "source": [
    "bot = doc.to_bag_of_terms(ngrams={2, 3}, as_strings=True)\n",
    "sorted(bot.items(), key=lambda x: x[1], reverse=True)[:10]"
   ]
  },
  {
   "cell_type": "markdown",
   "metadata": {},
   "source": [
    "##### Visualize Doc"
   ]
  },
  {
   "cell_type": "code",
   "execution_count": 286,
   "metadata": {
    "collapsed": false
   },
   "outputs": [
    {
     "name": "stdout",
     "output_type": "stream",
     "text": [
      "Sents:\n",
      "\n",
      "In the Federalist Papers, we often hear the reference to the Senate's role, to avert the consequences of \"sudden and violent passions\" and \"intemperate and pernicious resolutions.\"\n",
      "\n",
      "Well, to the everlasting credit and wisdom of our Founders, we do come together in an effort to find common ground.\n",
      "\n",
      "As I look back on my 8 years of service, I find myself reflecting on this tiny piece of Senate and American history.\n",
      "Some 10 years ago, I asked the people of New York to take a chance on me, to grant me their trust and their votes.\n",
      "In the years since, as our economy has grown more interconnected and the world more interdependent, I have worked to keep faith with my fellow New Yorkers.\n",
      "\n",
      "I well remember, when I first arrived in the Senate, there were a few skeptics wondering what I would do and how I would do it.\n",
      "There were stalwart supporters and people such as my friend, Senator Barbara Mikulski, who kind of read me the rules of the road and set me on my way.\n",
      "\n",
      "No sooner had I figured out the way around the Senate, actually had just moved into my office, which all of our new colleagues will eventually be able to enjoy, and had gone off on my first August recess.\n",
      "I never, when I was on the other end of Pennsylvania Avenue, understood why the Senate went on recess all the time.\n",
      "But after the intensity of the workload and the extraordinary pressure of both the work here in Washington and the constituency work in our States, I was thrilled and relieved to see that August recess roll around.\n",
      "\n",
      "Shortly after we returned in 2001, our Nation was attacked on 9/11.\n",
      "The toll was devastating and New York bore the heaviest burden.\n",
      "Here I was, a very new Senator, and my city and my State had been devastated.\n",
      "Nearly 3,000 lives were lost, the World Trade Center in ruins, a toxic cloud of debris and poison raining down over our first responders and others.\n",
      "\n",
      "I well remember the rallying of support and sense of common purpose that all of my colleagues and the citizens of all of the States represented here showed toward me personally and toward New York.\n",
      "Many of you offered not only kind words but specific deeds.\n",
      "Senators sent staff members to help answer the ringing phones in our office as New Yorkers struggled to track down family members or to seek aid.\n",
      "\n",
      "I will never forget Senator Robert Byrd telling me at my State's hour of need, \"Think of me as the third Senator from New York.\"\n",
      "\n",
      "On September 12, my colleague Chuck Schumer and I went to New York.\n",
      "As you recall, the roads were shut down, there was no way in or out of Manhattan other than by rail.\n",
      "The skies were clear.\n",
      "So Chuck and I, in a plane provided by FEMA, were the only ones in the sky that day other than the fighters who were circling overhead.\n",
      "\n",
      "We landed at La Guardia.\n",
      "We got into a helicopter to fly to the heliport on the west side of Manhattan, on the west side of the Hudson River.\n",
      "And then we proceeded, with the Governor, the mayor, and Federal officials to go toward the horror.\n",
      "\n",
      "When we were circling in the helicopter above the World Trade Center site, we could see the smoke still coming up, because it was, of course, burning.\n",
      "And we could see the very fragile piles of scrap and steel teetering as firefighters, construction workers, tried to continue their search and rescue effort.\n",
      "That site was as close as I have ever seen to what Dante describes as hell.\n",
      "\n",
      "It became known as \"the Pile.\"\n",
      "Chuck and I and our Government colleagues walked along one of the streets, and could not even see beyond the curtain of blackness, and occasionally breaking through would come a firefighter, totally exhausted after having been on duty for 24 hours, dragging an axe, knowing already that friends and even family members had been lost.\n",
      "\n",
      "The air was acrid.\n",
      "The thick smoke made it hard to breath.\n",
      "It burned your throat and your lungs.\n",
      "I knew then there would be lasting health problems for everyone who was exposed over any period of time to that air that carried so much death and destruction.\n",
      "\n",
      "Two days later, Senator Schumer and I went to the Oval Office and secured a commitment from President Bush for $20 billion in national aid for New York's recovery.\n",
      "In the years that would follow, he and I have stood side by side to fight for the successful delivery of that money as promised.\n",
      "In this and every instance, I am grateful to have had Senator Schumer as my partner and my ally.\n",
      "No one fights harder or is more determined, and even though I am leaving the Senate and we will no longer serve together, I know that whenever I am missing Chuck, all I have to do is turn on the television, especially on Sunday in New York.\n",
      "\n",
      "Over the past 7 years, thanks to so many of you, Senator Inouye, Senator Cochran, and others on the Appropriations Committee -- I see Senator Harkin and Senator Murray -- you have been there with us as we have worked to recover.\n",
      "\n",
      "I am very proud of the progress that has been made bringing New York back and securing funding for the essential programs to provide health screening and monitoring and treatment for all of those who still are suffering.\n",
      "\n",
      "I have developed close and lasting relationships with many of the victims and the families of the victims of 9/11.\n",
      "I applaud and thank them for their courage and their fortitude in not only fighting for the health benefits that were so desperately needed but for the creation of the 9/11 Commission, for trying to do better on threat assessments, more resources for first responders, committed, despite their grief, to smarter policies to prevent future attacks on our Nation.\n",
      "\n",
      "I see what we did together, and then quickly followed by that the anthrax attacks, and I remember with such incredible gratitude how we all came together.\n",
      "We should not only come together with that level of connection and commitment in time of disaster.\n",
      "This is an opportunity for us to pull together, with the new administration, to make a real difference, a lasting difference for our Nation.\n",
      "That is what I have tried to do as a Senator from New York.\n",
      "\n",
      "It has been a privilege working to improve the upstate economy, working on behalf of the farmers of New York.\n",
      "I remember a short conversation one day with Kent Conrad, Byron Dorgan, Tom Harkin, and Max Baucus early after my arrival about how I wanted to help agriculture in New York. \n",
      "\n",
      "They looked at me so quizzically and said, you have farmers in New York?\n",
      "I said, yes, in fact we do, about 30, 40 thousand family farms.\n",
      "\n",
      "Kent Conrad looked at me and he goes, you know, I do not believe that at all.\n",
      "So I gave a speech one day with a picture of a cow and said that this is a cow that lives on a farm, and the farm is in New York.\n",
      "We had a lot of fun kidding each other but working hard together.\n",
      "\n",
      "I am grateful for the incredible efforts we made to support the people who do the hard work in New York and America, who get up every day and do the very best they can.\n",
      "\n",
      "In the Finger Lakes region in the North Country, we helped to expand broadband access and partnered with eBay to create a way for people to have a global marketplace, when before the market was limited to a very small region of our State.\n",
      "\n",
      "We looked for ways to retrofit trucks and schoolbuses and other heavy vehicles with new clean diesel technologies developed by two great companies in New York, in Corning and Jamestown, to clean up our environment.\n",
      "\n",
      "We created the first ever greenprint for Rochester -- a blueprint, really, for how the city can harness its extraordinary research institutions and their business leadership and others to come up with a way to be a clean energy leader.\n",
      "\n",
      "We worked across the State to target investments from Bioinformatics in Buffalo to cultural icons such as the Stanley Theater in Utica.\n",
      "I took special pleasure in working with tourism because New York is such a great place of historic culture that I believed it needed to be given more support.\n",
      "For me, going to Seneca Falls, the home of the National Women's Hall of Fame and site of the landmark Women's Rights Convention, the first in the world in 1848, was a labor of love.\n",
      "\n",
      "There is a lot to look back on with great nostalgia and a lot of excitement, but I want to look forward now because we are at a turning point.\n",
      "I know that very well, as all of you do.\n",
      "Our challenge will be to come together, putting aside partisan differences and even, insofar as we can, geographic differences to meet the challenges of our time.\n",
      "I know our two leaders are struggling to do that as we speak.\n",
      "But I think this could be one of the golden eras of the history of the Senate.\n",
      "This could be a time when people will look back and say: You know, you never can count America out.\n",
      "Whenever the chips are down, we always rise to the occasion.\n",
      "We figure out a way forward and then we make life better for our people.\n",
      "We extend peace and prosperity and progress throughout the world.\n",
      "I am very excited about what can happen in the next 4 years.\n",
      "There is a lot of work ahead of us, but I know the people in this Chamber are more than up to it.\n",
      "\n",
      "Finally, to my fellow New Yorkers, I wish to express my profound gratitude.\n",
      "I loved being your Senator.\n",
      "Serving you has been the opportunity of a lifetime.\n",
      "It gave me the chance to continue the work of my life, to advocate on behalf of every single child's chance to live up to his or her God-given potential, to fight hard for those who too often do feel invisible, to remedy wrongs, as I hope we will do either today or in the next few days to pass the Lilly Ledbetter Fair Pay Act as well as the Paycheck Fairness Act, to do what we know will give our fellow Americans a better shot at the kind of future that is within their grasp.\n",
      "\n",
      "I have had a lot of fun: 8 State fairs, 45 parades, 62 counties, more than 4,600 events across the State.\n",
      "I look back wistfully, and I look forward hopefully.\n",
      "I now, if confirmed, will have the high honor of serving our country in a new role, but I will be sustained and directed by the same values that have motivated me for nearly four decades in public service.\n",
      "\n",
      "So to my colleagues in the Senate, thank you.\n",
      "You have been wonderful teachers and mentors and very good friends.\n",
      "And to the superb Democratic staff and their Republican counterparts who keep this Chamber going day-in and day-out no matter how late we are here and how long the workload turns out to be and to my own staff here and across New York, to my supporters, and, most of all, to the people of the great Empire State, I may not have always been a New Yorker, but I know I always will be one.\n",
      "New York, its spirit, and its people will always be part of me and of the work I do.\n",
      "\n",
      "I look forward to continuing my association with this body.\n",
      "We have much to do over in Foggy Bottom.\n",
      "We need your help to kind of clear up the fog, to give us a chance to operate on all cylinders with the direction and the resources and the improved management techniques I hope to bring to the job.\n",
      "\n",
      "This is a challenging and defining moment, but I will always keep faith in this body and in my fellow Americans.\n",
      "I remain an optimist, that America's best days are still ahead of us.\n",
      "\n",
      "(Applause, Members rising.)\n",
      "\n",
      "Huma Abedin, Barbara Adair, Joshua Albert, Amanda Alcott, David Alexander, Lily Alpert, Karl Alvarez, Erin Ashwell, Kris Balderston, Brendan Ballard, Mary Catherine Beach, Kathleen Beale, Eric Bederman, Yael Belkind, Suzanne Bennett Johnson, John Biba, Nina Blackwell, Swathi Bojedla, Amy Bonitatibus Crowley, Victoria Brescoll.\n",
      "M. Tracey Brooks, Catherine Brown, Colleen Burns, Daniel Burton, W. Case Button, Wendy Button, Gloria Cadavid, Emily Cain, Cathleen Calhoun, Jonathan Cardinal, Brian Carter, Joseph Caruso, Robin Chappelle, Dana Chasin, Bradford Cheney, Pamela Cicetti, James Clancy, Sarah Clark, Jennell Cofer Lynch, Elizabeth Condon.\n",
      "Sean Conway, Sam Cooper, Theresia Cooper, Julie Dade Howard, Heather Davis, Jenny Davis, Samuel Davis, Trevor Dean, James Delapp, Amitabh Desai, Allison DiRienzo, Paula Domenici, Karen Dunn, Eleanore Edson, Cleon Edwards, Diane Elmore, Sarah England, Leecia Eve, Christine Falvo, Rebecca Fertig.\n",
      "David Garten, Ann Gavaghan, Sarah Gegenheimer, Gigi Georges, Kate Geyer, Dayna Gibbons, Robyn Golden, Rebecca Goldenberg, Stacey Gordon, Jennifer Hanley, Monica Hanley, Beth Harkavy, Jennifer Harper, Jennifer Heater, David Helfenbein, Luis Hernandez, Eric Hersey, Christina Ho, Melissa Ho, Joe Householder.\n",
      "Kara Hughes, Jehmal Hudson, Lucy Walker Irving, Lindsey Katherine Jack, Kelly James, Tiffany JeanBaptiste, Irene Jefferson, Lauren Jiloty, Keren Johnson, LaToya Johnson, Michael Kanick, Jody Kaplan, Wendy Katz, Peter Kauffmann, Jim Keane, Elizabeth Kelley, Michelle Kessler, Yekyu Kim, Heather King, Joshua Kirshner.\n",
      "Danielle Kline, Kathleen Klink, Benjamin Kobren, Justin Krebs, Jennifer Kritz, Michelle Krohn-Friedson, Laura Krolczyk, Grant Kevin Lane, Elizabeth Lee, Joyce Lenard, Alexandra Lewin, Andrew Lewis, Rachel Alice Lewis, Susan Lisagor, Eric Lovecchio, Jonathan Lovett, Frank Luk, Tamera Luzzatto, Ken Mackintosh, Sharyn Magarian.\n",
      "Mickie Mailey, Jamie Mannina, Jaime Martinez, Ramon Martinez, Shalini Matani, Chelsea Maughan, Corinne McGown, Lorraine McHugh-Wytkind, Michelle Dianne McIntyre, Luz Mendez, Sheila Menz, Susan Merrell, Noah Messing, Lauren Montes, Gillian Mueller, Timothy Mulvey, David Mustra, Matthew Nelson, Ray Ocasio, Ellen Ochs.\n",
      "Ann O'Leary, Alexis O'Brien, Kevin O'Neal, Sean O'Shea, Mildred Otero, Erica Pagel, Andrea Palm, Costas Panagopolous, Paul Paolozzi, Kathryn Parker, Mira Patel, Charles Perham, Karen Persichilli Keogh, Joshua Picker, Kyla Pollack, Tyson Pratcher, Alice Pushkar, Murali Raju, Jeffrey Ratner, Kathy Read.\n",
      "Philippe Reines, Robyn Rimmer, Brenda Ritson, Joleen Rivera, Melissa Rochester, Miguel Rodriguez, Rose Rodriguez, William Rom, Tracey Ross, Laurie Rubiner, Courtenay Ruddy, Mark Saavedra, Susie Saavedra, Joshua Schank, Daniel Schwerin, Kelly Severance Nelson, Ruby Shamir, Andrew Shapiro, Geraldine Shapiro, Jessica Shapiro.\n",
      "Jyoti Sharma, Debra Simpson, Basil Smikle, Jake Smiles, Sarah Smith, Benjamin Souede, Phillip Spector, Joanna Spilker, Aprill Springfield, Dileep Srihari, Anjuli Srivastava, Warren Stern, Deborah Swacker, Elise Sweeney, Sean Sweeney, Michael Szymanski, Neera Tanden, Lee Telega, Gabrielle Tenzer, Megan Thompson.\n",
      "Carrie Torres, Tam Tran-Viet, Leo Trasande, Lacey Tucker, Dan Utech, Lona Valmoro, James Vigil, Lorraine Voles, Kristen Walsh, Greg Walton, Enid Weishaus, Nicole Wilett, Joshua Williams, Jeanne Wilson, Erica Woodard, Yajaira Yepez, Maryana Zubok.\n"
     ]
    },
    {
     "data": {
      "text/plain": [
       "99"
      ]
     },
     "execution_count": 286,
     "metadata": {},
     "output_type": "execute_result"
    }
   ],
   "source": [
    "sents = doc.sents\n",
    "\n",
    "sent_list = []\n",
    "print(\"Sents:\")\n",
    "print(\"\")\n",
    "for en in sents:\n",
    "    print (en)\n",
    "    sent_list.append(en)\n",
    "\n",
    "len(sent_list)"
   ]
  },
  {
   "cell_type": "code",
   "execution_count": 287,
   "metadata": {
    "collapsed": false
   },
   "outputs": [],
   "source": [
    "#Graph\n",
    "ng = textacy.network.sents_to_semantic_network(sent_list,\\\n",
    "                        normalize='lemma', edge_weighting='cosine')"
   ]
  },
  {
   "cell_type": "code",
   "execution_count": 299,
   "metadata": {
    "collapsed": false
   },
   "outputs": [],
   "source": [
    "#Print Graph\n",
    "plt.figure(num=None, figsize=(20, 20), dpi=80, facecolor='w', edgecolor='k')\n",
    "nx.draw(ng)\n",
    "#plt.show()\n",
    "plt.savefig(\"/Users/anmehra/Desktop/path.png\")"
   ]
  },
  {
   "cell_type": "code",
   "execution_count": 289,
   "metadata": {
    "collapsed": false
   },
   "outputs": [
    {
     "data": {
      "image/png": "[encoded data removed]",
      "text/plain": [
       "<matplotlib.figure.Figure at 0x1522e8c90>"
      ]
     },
     "metadata": {},
     "output_type": "display_data"
    }
   ],
   "source": [
    "nx.draw_random(ng)\n",
    "plt.show()"
   ]
  },
  {
   "cell_type": "code",
   "execution_count": 290,
   "metadata": {
    "collapsed": false
   },
   "outputs": [
    {
     "data": {
      "image/png": "[encoded data removed]",
      "text/plain": [
       "<matplotlib.figure.Figure at 0x152363250>"
      ]
     },
     "metadata": {},
     "output_type": "display_data"
    }
   ],
   "source": [
    "nx.draw_circular(ng)\n",
    "plt.show()"
   ]
  },
  {
   "cell_type": "code",
   "execution_count": 303,
   "metadata": {
    "collapsed": false
   },
   "outputs": [],
   "source": [
    "# model = textacy.tm.TopicModel('lda', n_topics=30)\n",
    "\n",
    "# model.fit(doc_term_matrix)\n",
    "# doc_topic_matrix = model.transform(doc_term_matrix)\n",
    "\n",
    "# top_term_matrix = model.model.components_\n",
    "# doc_lengths = [len(d) for d in obama_docs]\n",
    "# vocab = list(id2term.values())\n",
    "# term_frequency = textacy.vsm.get_term_freqs(doc_term_matrix)\n",
    "\n",
    "# import pyLDAvis\n",
    "\n",
    "# vis_data = pyLDAvis.prepare(\n",
    "#     top_term_matrix,\n",
    "#     doc_topic_matrix,\n",
    "#     doc_lengths,\n",
    "#     vocab,\n",
    "#     term_frequency,\n",
    "# )\n"
   ]
  },
  {
   "cell_type": "code",
   "execution_count": null,
   "metadata": {
    "collapsed": true
   },
   "outputs": [],
   "source": []
  }
 ],
 "metadata": {
  "kernelspec": {
   "display_name": "Python 2",
   "language": "python",
   "name": "python2"
  },
  "language_info": {
   "codemirror_mode": {
    "name": "ipython",
    "version": 2
   },
   "file_extension": ".py",
   "mimetype": "text/x-python",
   "name": "python",
   "nbconvert_exporter": "python",
   "pygments_lexer": "ipython2",
   "version": "2.7.13"
  }
 },
 "nbformat": 4,
 "nbformat_minor": 2
}
